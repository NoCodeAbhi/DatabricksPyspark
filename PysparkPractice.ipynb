{
 "cells": [
  {
   "cell_type": "code",
   "execution_count": 0,
   "metadata": {
    "application/vnd.databricks.v1+cell": {
     "cellMetadata": {
      "byteLimit": 2048000,
      "rowLimit": 10000
     },
     "inputWidgets": {},
     "nuid": "e048d499-727b-47fd-af11-c9bb15560738",
     "showTitle": false,
     "tableResultSettingsMap": {},
     "title": ""
    }
   },
   "outputs": [
    {
     "output_type": "stream",
     "name": "stdout",
     "output_type": "stream",
     "text": [
      "Out[1]: [FileInfo(path='dbfs:/FileStore/data/', name='data/', size=0, modificationTime=0),\n FileInfo(path='dbfs:/FileStore/sparkSQL/', name='sparkSQL/', size=0, modificationTime=0),\n FileInfo(path='dbfs:/FileStore/tables/', name='tables/', size=0, modificationTime=0)]"
     ]
    }
   ],
   "source": [
    "dbutils.fs.ls('FileStore')\n"
   ]
  },
  {
   "cell_type": "code",
   "execution_count": 0,
   "metadata": {
    "application/vnd.databricks.v1+cell": {
     "cellMetadata": {
      "byteLimit": 2048000,
      "rowLimit": 10000
     },
     "inputWidgets": {},
     "nuid": "af7a9d69-a05f-4d13-aa35-8fdb8c80ce9c",
     "showTitle": false,
     "tableResultSettingsMap": {},
     "title": ""
    }
   },
   "outputs": [],
   "source": [
    "sales_df = spark.read.format('csv').option('Inferschema',True).option('header',True).load('/FileStore/data/sales_data_second.csv')"
   ]
  },
  {
   "cell_type": "code",
   "execution_count": 0,
   "metadata": {
    "application/vnd.databricks.v1+cell": {
     "cellMetadata": {
      "byteLimit": 2048000,
      "rowLimit": 10000
     },
     "inputWidgets": {},
     "nuid": "b184512a-cb19-4ecc-863b-4c92d6e51c01",
     "showTitle": false,
     "tableResultSettingsMap": {},
     "title": ""
    }
   },
   "outputs": [
    {
     "output_type": "display_data",
     "data": {
      "text/html": [
       "<style scoped>\n",
       "  .table-result-container {\n",
       "    max-height: 300px;\n",
       "    overflow: auto;\n",
       "  }\n",
       "  table, th, td {\n",
       "    border: 1px solid black;\n",
       "    border-collapse: collapse;\n",
       "  }\n",
       "  th, td {\n",
       "    padding: 5px;\n",
       "  }\n",
       "  th {\n",
       "    text-align: left;\n",
       "  }\n",
       "</style><div class='table-result-container'><table class='table-result'><thead style='background-color: white'><tr><th>Branch_ID</th><th>Dealer_ID</th><th>Model_ID</th><th>Revenue</th><th>Units_Sold</th><th>Date_ID</th><th>Month</th><th>Year</th><th>BranchName</th><th>DealerName</th><th>Product_Name</th><th>Date</th></tr></thead><tbody><tr><td>BR2280</td><td>DLR0048</td><td>Aud-M235</td><td>23929671</td><td>3</td><td>DT01204</td><td>4</td><td>2020</td><td>Deccan Motors</td><td>De Tomaso Motors</td><td>Audi</td><td>4/18/2020 0:00</td></tr><tr><td>BR2285</td><td>DLR0149</td><td>Vol-M109</td><td>13073782</td><td>2</td><td>DT01217</td><td>5</td><td>2020</td><td>Herald Motors</td><td>Panoz Motors</td><td>Volkswagen</td><td>5/1/2020 0:00</td></tr><tr><td>BR2290</td><td>DLR0049</td><td>Aud-M236</td><td>14157891</td><td>3</td><td>DT01205</td><td>4</td><td>2020</td><td>Herald Motors</td><td>Dodge Motors</td><td>Audi</td><td>4/19/2020 0:00</td></tr><tr><td>BR2295</td><td>DLR0150</td><td>Vol-M110</td><td>16770687</td><td>3</td><td>DT01218</td><td>5</td><td>2020</td><td>Zion Automobils</td><td>Panther Motors</td><td>Volvo</td><td>5/2/2020 0:00</td></tr><tr><td>BR2300</td><td>DLR0050</td><td>Aud-M237</td><td>5769353</td><td>1</td><td>DT01206</td><td>4</td><td>2020</td><td>Zion Automobils</td><td>Donkervoort Motors</td><td>Audi</td><td>4/20/2020 0:00</td></tr><tr><td>BR2305</td><td>DLR0151</td><td>Agr-M111</td><td>18708022</td><td>2</td><td>DT01219</td><td>5</td><td>2020</td><td>Atlantic Motor Company</td><td>Peel Motors</td><td>Agrale</td><td>5/3/2020 0:00</td></tr><tr><td>BR2310</td><td>DLR0051</td><td>Aud-M238</td><td>6666418</td><td>1</td><td>DT01207</td><td>4</td><td>2020</td><td>Atlantic Motor Company</td><td>Edsel Motors</td><td>Audi</td><td>4/21/2020 0:00</td></tr><tr><td>BR2315</td><td>DLR0152</td><td>Agr-M112</td><td>18804507</td><td>3</td><td>DT01220</td><td>5</td><td>2020</td><td>2008 NRHP-listed</td><td>Perodua Motors</td><td>Agrale</td><td>5/4/2020 0:00</td></tr><tr><td>BR2320</td><td>DLR0052</td><td>Aud-M239</td><td>5651517</td><td>3</td><td>DT01208</td><td>4</td><td>2020</td><td>2008 NRHP-listed</td><td>e.GO Mobile Motors</td><td>Audi</td><td>4/22/2020 0:00</td></tr><tr><td>BR2330</td><td>DLR0053</td><td>Aud-M240</td><td>21747525</td><td>3</td><td>DT01209</td><td>4</td><td>2020</td><td>Blankinship Motor Company Building</td><td>Eicher Polaris Motors</td><td>Audi</td><td>4/23/2020 0:00</td></tr><tr><td>BR2335</td><td>DLR0154</td><td>Che-M114</td><td>28867227</td><td>3</td><td>DT01222</td><td>5</td><td>2020</td><td>Bohn Motor Company Automobile Dealership</td><td>PGO Motors</td><td>Chevrolet</td><td>5/6/2020 0:00</td></tr><tr><td>BR2340</td><td>DLR0054</td><td>Aud-M241</td><td>7111275</td><td>1</td><td>DT01210</td><td>4</td><td>2020</td><td>Bohn Motor Company Automobile Dealership</td><td>Elva Motors</td><td>Audi</td><td>4/24/2020 0:00</td></tr><tr><td>BR2345</td><td>DLR0155</td><td>Cit-M115</td><td>17266956</td><td>2</td><td>DT01223</td><td>5</td><td>2020</td><td>Buick Automobile Company Building</td><td>Piaggio Motors</td><td>Citroën</td><td>5/7/2020 0:00</td></tr><tr><td>BR2350</td><td>DLR0055</td><td>BMW-M242</td><td>1772823</td><td>3</td><td>DT01211</td><td>4</td><td>2020</td><td>Buick Automobile Company Building</td><td>Facel Vega Motors</td><td>BMW</td><td>4/25/2020 0:00</td></tr><tr><td>BR2355</td><td>DLR0156</td><td>Cit-M116</td><td>18011674</td><td>2</td><td>DT01224</td><td>5</td><td>2020</td><td>Cadillac Automobile Company Building</td><td>Plymouth Motors</td><td>Citroën</td><td>5/8/2020 0:00</td></tr><tr><td>BR2360</td><td>DLR0056</td><td>BMW-M243</td><td>17444340</td><td>3</td><td>DT01212</td><td>4</td><td>2020</td><td>Cadillac Automobile Company Building</td><td>Ferrari Motors</td><td>BMW</td><td>4/26/2020 0:00</td></tr><tr><td>BR2370</td><td>DLR0057</td><td>BMW-M244</td><td>1498461</td><td>1</td><td>DT01213</td><td>4</td><td>2020</td><td>Casa de cadillac</td><td>Fiat Motors</td><td>BMW</td><td>4/27/2020 0:00</td></tr><tr><td>BR2375</td><td>DLR0158</td><td>Fia-M118</td><td>7855838</td><td>1</td><td>DT01226</td><td>5</td><td>2020</td><td>Cass Motor Sales</td><td>Pontiac, Asüna Motors</td><td>Fiat</td><td>5/10/2020 0:00</td></tr><tr><td>BR2380</td><td>DLR0058</td><td>BMW-M245</td><td>3241882</td><td>2</td><td>DT01214</td><td>4</td><td>2020</td><td>Cass Motor Sales</td><td>Fiat do Brasil Motors</td><td>BMW</td><td>4/28/2020 0:00</td></tr><tr><td>BR2385</td><td>DLR0159</td><td>For-M119</td><td>2413373</td><td>1</td><td>DT01227</td><td>5</td><td>2020</td><td>Claremore Auto Dealership</td><td>Porsche Motors</td><td>Ford</td><td>5/11/2020 0:00</td></tr><tr><td>BR2395</td><td>DLR0160</td><td>Hon-M120</td><td>19441050</td><td>2</td><td>DT01228</td><td>5</td><td>2020</td><td>Clemens Automobile Company Building</td><td>Premier Motors</td><td>Honda</td><td>5/12/2020 0:00</td></tr><tr><td>BR2405</td><td>DLR0161</td><td>Mer-M121</td><td>2583356</td><td>2</td><td>DT01229</td><td>5</td><td>2020</td><td>Colman Automotive Building</td><td>Proton Motors</td><td>Mercedes-Benz</td><td>5/13/2020 0:00</td></tr><tr><td>BR2410</td><td>DLR0061</td><td>BMW-M248</td><td>1996961</td><td>1</td><td>DT01217</td><td>5</td><td>2020</td><td>Colman Automotive Building</td><td>Ford America Motors</td><td>BMW</td><td>5/1/2020 0:00</td></tr><tr><td>BR2415</td><td>DLR0162</td><td>Mer-M122</td><td>10879764</td><td>3</td><td>DT01230</td><td>5</td><td>2020</td><td>H Street Playhouse</td><td>Puma Motors</td><td>Mercedes-Benz</td><td>5/14/2020 0:00</td></tr><tr><td>BR2420</td><td>DLR0062</td><td>BMW-M249</td><td>2428393</td><td>1</td><td>DT01218</td><td>5</td><td>2020</td><td>H Street Playhouse</td><td>Ford Australia Motors</td><td>BMW</td><td>5/2/2020 0:00</td></tr><tr><td>BR2440</td><td>DLR0064</td><td>MG-M251</td><td>14491058</td><td>2</td><td>DT01220</td><td>5</td><td>2020</td><td>Hupmobile Building</td><td>Ford Europe Motors</td><td>MG</td><td>5/4/2020 0:00</td></tr><tr><td>BR2445</td><td>DLR0165</td><td>Peu-M125</td><td>4188963</td><td>1</td><td>DT01233</td><td>5</td><td>2020</td><td>Jennings Ford Automobile Dealership</td><td>Renault Motors</td><td>Peugeot</td><td>5/17/2020 0:00</td></tr><tr><td>BR2450</td><td>DLR0065</td><td>MG-M252</td><td>5979549</td><td>1</td><td>DT01221</td><td>5</td><td>2020</td><td>Jennings Ford Automobile Dealership</td><td>Ford India Motors</td><td>MG</td><td>5/5/2020 0:00</td></tr><tr><td>BR2455</td><td>DLR0166</td><td>Peu-M126</td><td>23079612</td><td>3</td><td>DT01234</td><td>5</td><td>2020</td><td>Jones Motor Company</td><td>Rivian Motors</td><td>Peugeot</td><td>5/18/2020 0:00</td></tr><tr><td>BR2460</td><td>DLR0066</td><td>Jee-M253</td><td>3309294</td><td>2</td><td>DT01222</td><td>5</td><td>2020</td><td>Jones Motor Company</td><td>Freightliner Motors</td><td>Jeep</td><td>5/6/2020 0:00</td></tr><tr><td>BR2470</td><td>DLR0067</td><td>Jee-M254</td><td>2050218</td><td>3</td><td>DT01223</td><td>5</td><td>2020</td><td>Kindel Building</td><td>FSO Motors</td><td>Jeep</td><td>5/7/2020 0:00</td></tr></tbody></table></div>"
      ]
     },
     "metadata": {
      "application/vnd.databricks.v1+output": {
       "addedWidgets": {},
       "aggData": [],
       "aggError": "",
       "aggOverflow": false,
       "aggSchema": [],
       "aggSeriesLimitReached": false,
       "aggType": "",
       "arguments": {},
       "columnCustomDisplayInfos": {},
       "data": [
        [
         "BR2280",
         "DLR0048",
         "Aud-M235",
         23929671,
         3,
         "DT01204",
         4,
         2020,
         "Deccan Motors",
         "De Tomaso Motors",
         "Audi",
         "4/18/2020 0:00"
        ],
        [
         "BR2285",
         "DLR0149",
         "Vol-M109",
         13073782,
         2,
         "DT01217",
         5,
         2020,
         "Herald Motors",
         "Panoz Motors",
         "Volkswagen",
         "5/1/2020 0:00"
        ],
        [
         "BR2290",
         "DLR0049",
         "Aud-M236",
         14157891,
         3,
         "DT01205",
         4,
         2020,
         "Herald Motors",
         "Dodge Motors",
         "Audi",
         "4/19/2020 0:00"
        ],
        [
         "BR2295",
         "DLR0150",
         "Vol-M110",
         16770687,
         3,
         "DT01218",
         5,
         2020,
         "Zion Automobils",
         "Panther Motors",
         "Volvo",
         "5/2/2020 0:00"
        ],
        [
         "BR2300",
         "DLR0050",
         "Aud-M237",
         5769353,
         1,
         "DT01206",
         4,
         2020,
         "Zion Automobils",
         "Donkervoort Motors",
         "Audi",
         "4/20/2020 0:00"
        ],
        [
         "BR2305",
         "DLR0151",
         "Agr-M111",
         18708022,
         2,
         "DT01219",
         5,
         2020,
         "Atlantic Motor Company",
         "Peel Motors",
         "Agrale",
         "5/3/2020 0:00"
        ],
        [
         "BR2310",
         "DLR0051",
         "Aud-M238",
         6666418,
         1,
         "DT01207",
         4,
         2020,
         "Atlantic Motor Company",
         "Edsel Motors",
         "Audi",
         "4/21/2020 0:00"
        ],
        [
         "BR2315",
         "DLR0152",
         "Agr-M112",
         18804507,
         3,
         "DT01220",
         5,
         2020,
         "2008 NRHP-listed",
         "Perodua Motors",
         "Agrale",
         "5/4/2020 0:00"
        ],
        [
         "BR2320",
         "DLR0052",
         "Aud-M239",
         5651517,
         3,
         "DT01208",
         4,
         2020,
         "2008 NRHP-listed",
         "e.GO Mobile Motors",
         "Audi",
         "4/22/2020 0:00"
        ],
        [
         "BR2330",
         "DLR0053",
         "Aud-M240",
         21747525,
         3,
         "DT01209",
         4,
         2020,
         "Blankinship Motor Company Building",
         "Eicher Polaris Motors",
         "Audi",
         "4/23/2020 0:00"
        ],
        [
         "BR2335",
         "DLR0154",
         "Che-M114",
         28867227,
         3,
         "DT01222",
         5,
         2020,
         "Bohn Motor Company Automobile Dealership",
         "PGO Motors",
         "Chevrolet",
         "5/6/2020 0:00"
        ],
        [
         "BR2340",
         "DLR0054",
         "Aud-M241",
         7111275,
         1,
         "DT01210",
         4,
         2020,
         "Bohn Motor Company Automobile Dealership",
         "Elva Motors",
         "Audi",
         "4/24/2020 0:00"
        ],
        [
         "BR2345",
         "DLR0155",
         "Cit-M115",
         17266956,
         2,
         "DT01223",
         5,
         2020,
         "Buick Automobile Company Building",
         "Piaggio Motors",
         "Citroën",
         "5/7/2020 0:00"
        ],
        [
         "BR2350",
         "DLR0055",
         "BMW-M242",
         1772823,
         3,
         "DT01211",
         4,
         2020,
         "Buick Automobile Company Building",
         "Facel Vega Motors",
         "BMW",
         "4/25/2020 0:00"
        ],
        [
         "BR2355",
         "DLR0156",
         "Cit-M116",
         18011674,
         2,
         "DT01224",
         5,
         2020,
         "Cadillac Automobile Company Building",
         "Plymouth Motors",
         "Citroën",
         "5/8/2020 0:00"
        ],
        [
         "BR2360",
         "DLR0056",
         "BMW-M243",
         17444340,
         3,
         "DT01212",
         4,
         2020,
         "Cadillac Automobile Company Building",
         "Ferrari Motors",
         "BMW",
         "4/26/2020 0:00"
        ],
        [
         "BR2370",
         "DLR0057",
         "BMW-M244",
         1498461,
         1,
         "DT01213",
         4,
         2020,
         "Casa de cadillac",
         "Fiat Motors",
         "BMW",
         "4/27/2020 0:00"
        ],
        [
         "BR2375",
         "DLR0158",
         "Fia-M118",
         7855838,
         1,
         "DT01226",
         5,
         2020,
         "Cass Motor Sales",
         "Pontiac, Asüna Motors",
         "Fiat",
         "5/10/2020 0:00"
        ],
        [
         "BR2380",
         "DLR0058",
         "BMW-M245",
         3241882,
         2,
         "DT01214",
         4,
         2020,
         "Cass Motor Sales",
         "Fiat do Brasil Motors",
         "BMW",
         "4/28/2020 0:00"
        ],
        [
         "BR2385",
         "DLR0159",
         "For-M119",
         2413373,
         1,
         "DT01227",
         5,
         2020,
         "Claremore Auto Dealership",
         "Porsche Motors",
         "Ford",
         "5/11/2020 0:00"
        ],
        [
         "BR2395",
         "DLR0160",
         "Hon-M120",
         19441050,
         2,
         "DT01228",
         5,
         2020,
         "Clemens Automobile Company Building",
         "Premier Motors",
         "Honda",
         "5/12/2020 0:00"
        ],
        [
         "BR2405",
         "DLR0161",
         "Mer-M121",
         2583356,
         2,
         "DT01229",
         5,
         2020,
         "Colman Automotive Building",
         "Proton Motors",
         "Mercedes-Benz",
         "5/13/2020 0:00"
        ],
        [
         "BR2410",
         "DLR0061",
         "BMW-M248",
         1996961,
         1,
         "DT01217",
         5,
         2020,
         "Colman Automotive Building",
         "Ford America Motors",
         "BMW",
         "5/1/2020 0:00"
        ],
        [
         "BR2415",
         "DLR0162",
         "Mer-M122",
         10879764,
         3,
         "DT01230",
         5,
         2020,
         "H Street Playhouse",
         "Puma Motors",
         "Mercedes-Benz",
         "5/14/2020 0:00"
        ],
        [
         "BR2420",
         "DLR0062",
         "BMW-M249",
         2428393,
         1,
         "DT01218",
         5,
         2020,
         "H Street Playhouse",
         "Ford Australia Motors",
         "BMW",
         "5/2/2020 0:00"
        ],
        [
         "BR2440",
         "DLR0064",
         "MG-M251",
         14491058,
         2,
         "DT01220",
         5,
         2020,
         "Hupmobile Building",
         "Ford Europe Motors",
         "MG",
         "5/4/2020 0:00"
        ],
        [
         "BR2445",
         "DLR0165",
         "Peu-M125",
         4188963,
         1,
         "DT01233",
         5,
         2020,
         "Jennings Ford Automobile Dealership",
         "Renault Motors",
         "Peugeot",
         "5/17/2020 0:00"
        ],
        [
         "BR2450",
         "DLR0065",
         "MG-M252",
         5979549,
         1,
         "DT01221",
         5,
         2020,
         "Jennings Ford Automobile Dealership",
         "Ford India Motors",
         "MG",
         "5/5/2020 0:00"
        ],
        [
         "BR2455",
         "DLR0166",
         "Peu-M126",
         23079612,
         3,
         "DT01234",
         5,
         2020,
         "Jones Motor Company",
         "Rivian Motors",
         "Peugeot",
         "5/18/2020 0:00"
        ],
        [
         "BR2460",
         "DLR0066",
         "Jee-M253",
         3309294,
         2,
         "DT01222",
         5,
         2020,
         "Jones Motor Company",
         "Freightliner Motors",
         "Jeep",
         "5/6/2020 0:00"
        ],
        [
         "BR2470",
         "DLR0067",
         "Jee-M254",
         2050218,
         3,
         "DT01223",
         5,
         2020,
         "Kindel Building",
         "FSO Motors",
         "Jeep",
         "5/7/2020 0:00"
        ]
       ],
       "datasetInfos": [],
       "dbfsResultPath": null,
       "isJsonSchema": true,
       "metadata": {},
       "overflow": false,
       "plotOptions": {
        "customPlotOptions": {},
        "displayType": "table",
        "pivotAggregation": null,
        "pivotColumns": null,
        "xColumns": null,
        "yColumns": null
       },
       "removedWidgets": [],
       "schema": [
        {
         "metadata": "{}",
         "name": "Branch_ID",
         "type": "\"string\""
        },
        {
         "metadata": "{}",
         "name": "Dealer_ID",
         "type": "\"string\""
        },
        {
         "metadata": "{}",
         "name": "Model_ID",
         "type": "\"string\""
        },
        {
         "metadata": "{}",
         "name": "Revenue",
         "type": "\"integer\""
        },
        {
         "metadata": "{}",
         "name": "Units_Sold",
         "type": "\"integer\""
        },
        {
         "metadata": "{}",
         "name": "Date_ID",
         "type": "\"string\""
        },
        {
         "metadata": "{}",
         "name": "Month",
         "type": "\"integer\""
        },
        {
         "metadata": "{}",
         "name": "Year",
         "type": "\"integer\""
        },
        {
         "metadata": "{}",
         "name": "BranchName",
         "type": "\"string\""
        },
        {
         "metadata": "{}",
         "name": "DealerName",
         "type": "\"string\""
        },
        {
         "metadata": "{}",
         "name": "Product_Name",
         "type": "\"string\""
        },
        {
         "metadata": "{}",
         "name": "Date",
         "type": "\"string\""
        }
       ],
       "type": "table"
      }
     },
     "output_type": "display_data"
    }
   ],
   "source": [
    "sales_df.display()"
   ]
  },
  {
   "cell_type": "code",
   "execution_count": 0,
   "metadata": {
    "application/vnd.databricks.v1+cell": {
     "cellMetadata": {
      "byteLimit": 2048000,
      "rowLimit": 10000
     },
     "inputWidgets": {},
     "nuid": "2d564e31-6eb1-4fe7-8fda-1f9d2ef541b2",
     "showTitle": false,
     "tableResultSettingsMap": {},
     "title": ""
    }
   },
   "outputs": [
    {
     "output_type": "display_data",
     "data": {
      "text/html": [
       "<style scoped>\n",
       "  .table-result-container {\n",
       "    max-height: 300px;\n",
       "    overflow: auto;\n",
       "  }\n",
       "  table, th, td {\n",
       "    border: 1px solid black;\n",
       "    border-collapse: collapse;\n",
       "  }\n",
       "  th, td {\n",
       "    padding: 5px;\n",
       "  }\n",
       "  th {\n",
       "    text-align: left;\n",
       "  }\n",
       "</style><div class='table-result-container'><table class='table-result'><thead style='background-color: white'><tr><th>Branch_ID</th><th>Dealer_ID</th><th>Model_ID</th><th>Revenue</th><th>Units_Sold</th><th>Date_ID</th><th>Month</th><th>Year</th><th>BranchName</th><th>DealerName</th><th>Product_Name</th><th>Date</th></tr></thead><tbody><tr><td>BR2280</td><td>DLR0048</td><td>Aud-M235</td><td>23929671</td><td>3</td><td>DT01204</td><td>4</td><td>2020</td><td>Deccan Motors</td><td>De Tomaso Motors</td><td>Audi</td><td>4/18/2020 0:00</td></tr><tr><td>BR2285</td><td>DLR0149</td><td>Vol-M109</td><td>13073782</td><td>2</td><td>DT01217</td><td>5</td><td>2020</td><td>Herald Motors</td><td>Panoz Motors</td><td>Volkswagen</td><td>5/1/2020 0:00</td></tr><tr><td>BR2290</td><td>DLR0049</td><td>Aud-M236</td><td>14157891</td><td>3</td><td>DT01205</td><td>4</td><td>2020</td><td>Herald Motors</td><td>Dodge Motors</td><td>Audi</td><td>4/19/2020 0:00</td></tr><tr><td>BR2295</td><td>DLR0150</td><td>Vol-M110</td><td>16770687</td><td>3</td><td>DT01218</td><td>5</td><td>2020</td><td>Zion Automobils</td><td>Panther Motors</td><td>Volvo</td><td>5/2/2020 0:00</td></tr><tr><td>BR2300</td><td>DLR0050</td><td>Aud-M237</td><td>5769353</td><td>1</td><td>DT01206</td><td>4</td><td>2020</td><td>Zion Automobils</td><td>Donkervoort Motors</td><td>Audi</td><td>4/20/2020 0:00</td></tr><tr><td>BR2305</td><td>DLR0151</td><td>Agr-M111</td><td>18708022</td><td>2</td><td>DT01219</td><td>5</td><td>2020</td><td>Atlantic Motor Company</td><td>Peel Motors</td><td>Agrale</td><td>5/3/2020 0:00</td></tr><tr><td>BR2310</td><td>DLR0051</td><td>Aud-M238</td><td>6666418</td><td>1</td><td>DT01207</td><td>4</td><td>2020</td><td>Atlantic Motor Company</td><td>Edsel Motors</td><td>Audi</td><td>4/21/2020 0:00</td></tr><tr><td>BR2315</td><td>DLR0152</td><td>Agr-M112</td><td>18804507</td><td>3</td><td>DT01220</td><td>5</td><td>2020</td><td>2008 NRHP-listed</td><td>Perodua Motors</td><td>Agrale</td><td>5/4/2020 0:00</td></tr><tr><td>BR2320</td><td>DLR0052</td><td>Aud-M239</td><td>5651517</td><td>3</td><td>DT01208</td><td>4</td><td>2020</td><td>2008 NRHP-listed</td><td>e.GO Mobile Motors</td><td>Audi</td><td>4/22/2020 0:00</td></tr><tr><td>BR2330</td><td>DLR0053</td><td>Aud-M240</td><td>21747525</td><td>3</td><td>DT01209</td><td>4</td><td>2020</td><td>Blankinship Motor Company Building</td><td>Eicher Polaris Motors</td><td>Audi</td><td>4/23/2020 0:00</td></tr></tbody></table></div>"
      ]
     },
     "metadata": {
      "application/vnd.databricks.v1+output": {
       "addedWidgets": {},
       "aggData": [],
       "aggError": "",
       "aggOverflow": false,
       "aggSchema": [],
       "aggSeriesLimitReached": false,
       "aggType": "",
       "arguments": {},
       "columnCustomDisplayInfos": {},
       "data": [
        [
         "BR2280",
         "DLR0048",
         "Aud-M235",
         23929671,
         3,
         "DT01204",
         4,
         2020,
         "Deccan Motors",
         "De Tomaso Motors",
         "Audi",
         "4/18/2020 0:00"
        ],
        [
         "BR2285",
         "DLR0149",
         "Vol-M109",
         13073782,
         2,
         "DT01217",
         5,
         2020,
         "Herald Motors",
         "Panoz Motors",
         "Volkswagen",
         "5/1/2020 0:00"
        ],
        [
         "BR2290",
         "DLR0049",
         "Aud-M236",
         14157891,
         3,
         "DT01205",
         4,
         2020,
         "Herald Motors",
         "Dodge Motors",
         "Audi",
         "4/19/2020 0:00"
        ],
        [
         "BR2295",
         "DLR0150",
         "Vol-M110",
         16770687,
         3,
         "DT01218",
         5,
         2020,
         "Zion Automobils",
         "Panther Motors",
         "Volvo",
         "5/2/2020 0:00"
        ],
        [
         "BR2300",
         "DLR0050",
         "Aud-M237",
         5769353,
         1,
         "DT01206",
         4,
         2020,
         "Zion Automobils",
         "Donkervoort Motors",
         "Audi",
         "4/20/2020 0:00"
        ],
        [
         "BR2305",
         "DLR0151",
         "Agr-M111",
         18708022,
         2,
         "DT01219",
         5,
         2020,
         "Atlantic Motor Company",
         "Peel Motors",
         "Agrale",
         "5/3/2020 0:00"
        ],
        [
         "BR2310",
         "DLR0051",
         "Aud-M238",
         6666418,
         1,
         "DT01207",
         4,
         2020,
         "Atlantic Motor Company",
         "Edsel Motors",
         "Audi",
         "4/21/2020 0:00"
        ],
        [
         "BR2315",
         "DLR0152",
         "Agr-M112",
         18804507,
         3,
         "DT01220",
         5,
         2020,
         "2008 NRHP-listed",
         "Perodua Motors",
         "Agrale",
         "5/4/2020 0:00"
        ],
        [
         "BR2320",
         "DLR0052",
         "Aud-M239",
         5651517,
         3,
         "DT01208",
         4,
         2020,
         "2008 NRHP-listed",
         "e.GO Mobile Motors",
         "Audi",
         "4/22/2020 0:00"
        ],
        [
         "BR2330",
         "DLR0053",
         "Aud-M240",
         21747525,
         3,
         "DT01209",
         4,
         2020,
         "Blankinship Motor Company Building",
         "Eicher Polaris Motors",
         "Audi",
         "4/23/2020 0:00"
        ]
       ],
       "datasetInfos": [],
       "dbfsResultPath": null,
       "isJsonSchema": true,
       "metadata": {},
       "overflow": false,
       "plotOptions": {
        "customPlotOptions": {},
        "displayType": "table",
        "pivotAggregation": null,
        "pivotColumns": null,
        "xColumns": null,
        "yColumns": null
       },
       "removedWidgets": [],
       "schema": [
        {
         "metadata": "{}",
         "name": "Branch_ID",
         "type": "\"string\""
        },
        {
         "metadata": "{}",
         "name": "Dealer_ID",
         "type": "\"string\""
        },
        {
         "metadata": "{}",
         "name": "Model_ID",
         "type": "\"string\""
        },
        {
         "metadata": "{}",
         "name": "Revenue",
         "type": "\"integer\""
        },
        {
         "metadata": "{}",
         "name": "Units_Sold",
         "type": "\"integer\""
        },
        {
         "metadata": "{}",
         "name": "Date_ID",
         "type": "\"string\""
        },
        {
         "metadata": "{}",
         "name": "Month",
         "type": "\"integer\""
        },
        {
         "metadata": "{}",
         "name": "Year",
         "type": "\"integer\""
        },
        {
         "metadata": "{}",
         "name": "BranchName",
         "type": "\"string\""
        },
        {
         "metadata": "{}",
         "name": "DealerName",
         "type": "\"string\""
        },
        {
         "metadata": "{}",
         "name": "Product_Name",
         "type": "\"string\""
        },
        {
         "metadata": "{}",
         "name": "Date",
         "type": "\"string\""
        }
       ],
       "type": "table"
      }
     },
     "output_type": "display_data"
    }
   ],
   "source": [
    "display(sales_df.limit(10))"
   ]
  },
  {
   "cell_type": "code",
   "execution_count": 0,
   "metadata": {
    "application/vnd.databricks.v1+cell": {
     "cellMetadata": {
      "byteLimit": 2048000,
      "rowLimit": 10000
     },
     "inputWidgets": {},
     "nuid": "9d1b7534-c194-4536-94cc-a949b2697cd3",
     "showTitle": false,
     "tableResultSettingsMap": {},
     "title": ""
    }
   },
   "outputs": [
    {
     "output_type": "stream",
     "name": "stdout",
     "output_type": "stream",
     "text": [
      "root\n |-- Branch_ID: string (nullable = true)\n |-- Dealer_ID: string (nullable = true)\n |-- Model_ID: string (nullable = true)\n |-- Revenue: integer (nullable = true)\n |-- Units_Sold: integer (nullable = true)\n |-- Date_ID: string (nullable = true)\n |-- Month: integer (nullable = true)\n |-- Year: integer (nullable = true)\n |-- BranchName: string (nullable = true)\n |-- DealerName: string (nullable = true)\n |-- Product_Name: string (nullable = true)\n |-- Date: string (nullable = true)\n\n"
     ]
    }
   ],
   "source": [
    "sales_df.printSchema()"
   ]
  },
  {
   "cell_type": "code",
   "execution_count": 0,
   "metadata": {
    "application/vnd.databricks.v1+cell": {
     "cellMetadata": {
      "byteLimit": 2048000,
      "rowLimit": 10000
     },
     "inputWidgets": {},
     "nuid": "ee4d36b3-5ec1-4bc8-8a51-68f87299993f",
     "showTitle": false,
     "tableResultSettingsMap": {},
     "title": ""
    }
   },
   "outputs": [],
   "source": [
    "from pyspark.sql.functions import *\n",
    "from pyspark.sql.types import *\n",
    "cast_df = sales_df.withColumn('Model_ID', col('Model_ID').cast(IntegerType()))"
   ]
  },
  {
   "cell_type": "code",
   "execution_count": 0,
   "metadata": {
    "application/vnd.databricks.v1+cell": {
     "cellMetadata": {
      "byteLimit": 2048000,
      "rowLimit": 10000
     },
     "inputWidgets": {},
     "nuid": "7309031b-72db-4020-8038-c98e9381f78d",
     "showTitle": false,
     "tableResultSettingsMap": {},
     "title": ""
    }
   },
   "outputs": [
    {
     "output_type": "display_data",
     "data": {
      "text/html": [
       "<style scoped>\n",
       "  .table-result-container {\n",
       "    max-height: 300px;\n",
       "    overflow: auto;\n",
       "  }\n",
       "  table, th, td {\n",
       "    border: 1px solid black;\n",
       "    border-collapse: collapse;\n",
       "  }\n",
       "  th, td {\n",
       "    padding: 5px;\n",
       "  }\n",
       "  th {\n",
       "    text-align: left;\n",
       "  }\n",
       "</style><div class='table-result-container'><table class='table-result'><thead style='background-color: white'><tr><th>Branch_ID</th><th>Dealer_ID</th><th>Model_ID</th><th>Revenue</th><th>Units_Sold</th><th>Date_ID</th><th>Month</th><th>Year</th><th>BranchName</th><th>DealerName</th><th>Product_Name</th><th>Date</th></tr></thead><tbody><tr><td>BR2280</td><td>DLR0048</td><td>null</td><td>23929671</td><td>3</td><td>DT01204</td><td>4</td><td>2020</td><td>Deccan Motors</td><td>De Tomaso Motors</td><td>Audi</td><td>4/18/2020 0:00</td></tr><tr><td>BR2285</td><td>DLR0149</td><td>null</td><td>13073782</td><td>2</td><td>DT01217</td><td>5</td><td>2020</td><td>Herald Motors</td><td>Panoz Motors</td><td>Volkswagen</td><td>5/1/2020 0:00</td></tr><tr><td>BR2290</td><td>DLR0049</td><td>null</td><td>14157891</td><td>3</td><td>DT01205</td><td>4</td><td>2020</td><td>Herald Motors</td><td>Dodge Motors</td><td>Audi</td><td>4/19/2020 0:00</td></tr><tr><td>BR2295</td><td>DLR0150</td><td>null</td><td>16770687</td><td>3</td><td>DT01218</td><td>5</td><td>2020</td><td>Zion Automobils</td><td>Panther Motors</td><td>Volvo</td><td>5/2/2020 0:00</td></tr><tr><td>BR2300</td><td>DLR0050</td><td>null</td><td>5769353</td><td>1</td><td>DT01206</td><td>4</td><td>2020</td><td>Zion Automobils</td><td>Donkervoort Motors</td><td>Audi</td><td>4/20/2020 0:00</td></tr><tr><td>BR2305</td><td>DLR0151</td><td>null</td><td>18708022</td><td>2</td><td>DT01219</td><td>5</td><td>2020</td><td>Atlantic Motor Company</td><td>Peel Motors</td><td>Agrale</td><td>5/3/2020 0:00</td></tr><tr><td>BR2310</td><td>DLR0051</td><td>null</td><td>6666418</td><td>1</td><td>DT01207</td><td>4</td><td>2020</td><td>Atlantic Motor Company</td><td>Edsel Motors</td><td>Audi</td><td>4/21/2020 0:00</td></tr><tr><td>BR2315</td><td>DLR0152</td><td>null</td><td>18804507</td><td>3</td><td>DT01220</td><td>5</td><td>2020</td><td>2008 NRHP-listed</td><td>Perodua Motors</td><td>Agrale</td><td>5/4/2020 0:00</td></tr><tr><td>BR2320</td><td>DLR0052</td><td>null</td><td>5651517</td><td>3</td><td>DT01208</td><td>4</td><td>2020</td><td>2008 NRHP-listed</td><td>e.GO Mobile Motors</td><td>Audi</td><td>4/22/2020 0:00</td></tr><tr><td>BR2330</td><td>DLR0053</td><td>null</td><td>21747525</td><td>3</td><td>DT01209</td><td>4</td><td>2020</td><td>Blankinship Motor Company Building</td><td>Eicher Polaris Motors</td><td>Audi</td><td>4/23/2020 0:00</td></tr><tr><td>BR2335</td><td>DLR0154</td><td>null</td><td>28867227</td><td>3</td><td>DT01222</td><td>5</td><td>2020</td><td>Bohn Motor Company Automobile Dealership</td><td>PGO Motors</td><td>Chevrolet</td><td>5/6/2020 0:00</td></tr><tr><td>BR2340</td><td>DLR0054</td><td>null</td><td>7111275</td><td>1</td><td>DT01210</td><td>4</td><td>2020</td><td>Bohn Motor Company Automobile Dealership</td><td>Elva Motors</td><td>Audi</td><td>4/24/2020 0:00</td></tr><tr><td>BR2345</td><td>DLR0155</td><td>null</td><td>17266956</td><td>2</td><td>DT01223</td><td>5</td><td>2020</td><td>Buick Automobile Company Building</td><td>Piaggio Motors</td><td>Citroën</td><td>5/7/2020 0:00</td></tr><tr><td>BR2350</td><td>DLR0055</td><td>null</td><td>1772823</td><td>3</td><td>DT01211</td><td>4</td><td>2020</td><td>Buick Automobile Company Building</td><td>Facel Vega Motors</td><td>BMW</td><td>4/25/2020 0:00</td></tr><tr><td>BR2355</td><td>DLR0156</td><td>null</td><td>18011674</td><td>2</td><td>DT01224</td><td>5</td><td>2020</td><td>Cadillac Automobile Company Building</td><td>Plymouth Motors</td><td>Citroën</td><td>5/8/2020 0:00</td></tr><tr><td>BR2360</td><td>DLR0056</td><td>null</td><td>17444340</td><td>3</td><td>DT01212</td><td>4</td><td>2020</td><td>Cadillac Automobile Company Building</td><td>Ferrari Motors</td><td>BMW</td><td>4/26/2020 0:00</td></tr><tr><td>BR2370</td><td>DLR0057</td><td>null</td><td>1498461</td><td>1</td><td>DT01213</td><td>4</td><td>2020</td><td>Casa de cadillac</td><td>Fiat Motors</td><td>BMW</td><td>4/27/2020 0:00</td></tr><tr><td>BR2375</td><td>DLR0158</td><td>null</td><td>7855838</td><td>1</td><td>DT01226</td><td>5</td><td>2020</td><td>Cass Motor Sales</td><td>Pontiac, Asüna Motors</td><td>Fiat</td><td>5/10/2020 0:00</td></tr><tr><td>BR2380</td><td>DLR0058</td><td>null</td><td>3241882</td><td>2</td><td>DT01214</td><td>4</td><td>2020</td><td>Cass Motor Sales</td><td>Fiat do Brasil Motors</td><td>BMW</td><td>4/28/2020 0:00</td></tr><tr><td>BR2385</td><td>DLR0159</td><td>null</td><td>2413373</td><td>1</td><td>DT01227</td><td>5</td><td>2020</td><td>Claremore Auto Dealership</td><td>Porsche Motors</td><td>Ford</td><td>5/11/2020 0:00</td></tr><tr><td>BR2395</td><td>DLR0160</td><td>null</td><td>19441050</td><td>2</td><td>DT01228</td><td>5</td><td>2020</td><td>Clemens Automobile Company Building</td><td>Premier Motors</td><td>Honda</td><td>5/12/2020 0:00</td></tr><tr><td>BR2405</td><td>DLR0161</td><td>null</td><td>2583356</td><td>2</td><td>DT01229</td><td>5</td><td>2020</td><td>Colman Automotive Building</td><td>Proton Motors</td><td>Mercedes-Benz</td><td>5/13/2020 0:00</td></tr><tr><td>BR2410</td><td>DLR0061</td><td>null</td><td>1996961</td><td>1</td><td>DT01217</td><td>5</td><td>2020</td><td>Colman Automotive Building</td><td>Ford America Motors</td><td>BMW</td><td>5/1/2020 0:00</td></tr><tr><td>BR2415</td><td>DLR0162</td><td>null</td><td>10879764</td><td>3</td><td>DT01230</td><td>5</td><td>2020</td><td>H Street Playhouse</td><td>Puma Motors</td><td>Mercedes-Benz</td><td>5/14/2020 0:00</td></tr><tr><td>BR2420</td><td>DLR0062</td><td>null</td><td>2428393</td><td>1</td><td>DT01218</td><td>5</td><td>2020</td><td>H Street Playhouse</td><td>Ford Australia Motors</td><td>BMW</td><td>5/2/2020 0:00</td></tr><tr><td>BR2440</td><td>DLR0064</td><td>null</td><td>14491058</td><td>2</td><td>DT01220</td><td>5</td><td>2020</td><td>Hupmobile Building</td><td>Ford Europe Motors</td><td>MG</td><td>5/4/2020 0:00</td></tr><tr><td>BR2445</td><td>DLR0165</td><td>null</td><td>4188963</td><td>1</td><td>DT01233</td><td>5</td><td>2020</td><td>Jennings Ford Automobile Dealership</td><td>Renault Motors</td><td>Peugeot</td><td>5/17/2020 0:00</td></tr><tr><td>BR2450</td><td>DLR0065</td><td>null</td><td>5979549</td><td>1</td><td>DT01221</td><td>5</td><td>2020</td><td>Jennings Ford Automobile Dealership</td><td>Ford India Motors</td><td>MG</td><td>5/5/2020 0:00</td></tr><tr><td>BR2455</td><td>DLR0166</td><td>null</td><td>23079612</td><td>3</td><td>DT01234</td><td>5</td><td>2020</td><td>Jones Motor Company</td><td>Rivian Motors</td><td>Peugeot</td><td>5/18/2020 0:00</td></tr><tr><td>BR2460</td><td>DLR0066</td><td>null</td><td>3309294</td><td>2</td><td>DT01222</td><td>5</td><td>2020</td><td>Jones Motor Company</td><td>Freightliner Motors</td><td>Jeep</td><td>5/6/2020 0:00</td></tr><tr><td>BR2470</td><td>DLR0067</td><td>null</td><td>2050218</td><td>3</td><td>DT01223</td><td>5</td><td>2020</td><td>Kindel Building</td><td>FSO Motors</td><td>Jeep</td><td>5/7/2020 0:00</td></tr></tbody></table></div>"
      ]
     },
     "metadata": {
      "application/vnd.databricks.v1+output": {
       "addedWidgets": {},
       "aggData": [],
       "aggError": "",
       "aggOverflow": false,
       "aggSchema": [],
       "aggSeriesLimitReached": false,
       "aggType": "",
       "arguments": {},
       "columnCustomDisplayInfos": {},
       "data": [
        [
         "BR2280",
         "DLR0048",
         null,
         23929671,
         3,
         "DT01204",
         4,
         2020,
         "Deccan Motors",
         "De Tomaso Motors",
         "Audi",
         "4/18/2020 0:00"
        ],
        [
         "BR2285",
         "DLR0149",
         null,
         13073782,
         2,
         "DT01217",
         5,
         2020,
         "Herald Motors",
         "Panoz Motors",
         "Volkswagen",
         "5/1/2020 0:00"
        ],
        [
         "BR2290",
         "DLR0049",
         null,
         14157891,
         3,
         "DT01205",
         4,
         2020,
         "Herald Motors",
         "Dodge Motors",
         "Audi",
         "4/19/2020 0:00"
        ],
        [
         "BR2295",
         "DLR0150",
         null,
         16770687,
         3,
         "DT01218",
         5,
         2020,
         "Zion Automobils",
         "Panther Motors",
         "Volvo",
         "5/2/2020 0:00"
        ],
        [
         "BR2300",
         "DLR0050",
         null,
         5769353,
         1,
         "DT01206",
         4,
         2020,
         "Zion Automobils",
         "Donkervoort Motors",
         "Audi",
         "4/20/2020 0:00"
        ],
        [
         "BR2305",
         "DLR0151",
         null,
         18708022,
         2,
         "DT01219",
         5,
         2020,
         "Atlantic Motor Company",
         "Peel Motors",
         "Agrale",
         "5/3/2020 0:00"
        ],
        [
         "BR2310",
         "DLR0051",
         null,
         6666418,
         1,
         "DT01207",
         4,
         2020,
         "Atlantic Motor Company",
         "Edsel Motors",
         "Audi",
         "4/21/2020 0:00"
        ],
        [
         "BR2315",
         "DLR0152",
         null,
         18804507,
         3,
         "DT01220",
         5,
         2020,
         "2008 NRHP-listed",
         "Perodua Motors",
         "Agrale",
         "5/4/2020 0:00"
        ],
        [
         "BR2320",
         "DLR0052",
         null,
         5651517,
         3,
         "DT01208",
         4,
         2020,
         "2008 NRHP-listed",
         "e.GO Mobile Motors",
         "Audi",
         "4/22/2020 0:00"
        ],
        [
         "BR2330",
         "DLR0053",
         null,
         21747525,
         3,
         "DT01209",
         4,
         2020,
         "Blankinship Motor Company Building",
         "Eicher Polaris Motors",
         "Audi",
         "4/23/2020 0:00"
        ],
        [
         "BR2335",
         "DLR0154",
         null,
         28867227,
         3,
         "DT01222",
         5,
         2020,
         "Bohn Motor Company Automobile Dealership",
         "PGO Motors",
         "Chevrolet",
         "5/6/2020 0:00"
        ],
        [
         "BR2340",
         "DLR0054",
         null,
         7111275,
         1,
         "DT01210",
         4,
         2020,
         "Bohn Motor Company Automobile Dealership",
         "Elva Motors",
         "Audi",
         "4/24/2020 0:00"
        ],
        [
         "BR2345",
         "DLR0155",
         null,
         17266956,
         2,
         "DT01223",
         5,
         2020,
         "Buick Automobile Company Building",
         "Piaggio Motors",
         "Citroën",
         "5/7/2020 0:00"
        ],
        [
         "BR2350",
         "DLR0055",
         null,
         1772823,
         3,
         "DT01211",
         4,
         2020,
         "Buick Automobile Company Building",
         "Facel Vega Motors",
         "BMW",
         "4/25/2020 0:00"
        ],
        [
         "BR2355",
         "DLR0156",
         null,
         18011674,
         2,
         "DT01224",
         5,
         2020,
         "Cadillac Automobile Company Building",
         "Plymouth Motors",
         "Citroën",
         "5/8/2020 0:00"
        ],
        [
         "BR2360",
         "DLR0056",
         null,
         17444340,
         3,
         "DT01212",
         4,
         2020,
         "Cadillac Automobile Company Building",
         "Ferrari Motors",
         "BMW",
         "4/26/2020 0:00"
        ],
        [
         "BR2370",
         "DLR0057",
         null,
         1498461,
         1,
         "DT01213",
         4,
         2020,
         "Casa de cadillac",
         "Fiat Motors",
         "BMW",
         "4/27/2020 0:00"
        ],
        [
         "BR2375",
         "DLR0158",
         null,
         7855838,
         1,
         "DT01226",
         5,
         2020,
         "Cass Motor Sales",
         "Pontiac, Asüna Motors",
         "Fiat",
         "5/10/2020 0:00"
        ],
        [
         "BR2380",
         "DLR0058",
         null,
         3241882,
         2,
         "DT01214",
         4,
         2020,
         "Cass Motor Sales",
         "Fiat do Brasil Motors",
         "BMW",
         "4/28/2020 0:00"
        ],
        [
         "BR2385",
         "DLR0159",
         null,
         2413373,
         1,
         "DT01227",
         5,
         2020,
         "Claremore Auto Dealership",
         "Porsche Motors",
         "Ford",
         "5/11/2020 0:00"
        ],
        [
         "BR2395",
         "DLR0160",
         null,
         19441050,
         2,
         "DT01228",
         5,
         2020,
         "Clemens Automobile Company Building",
         "Premier Motors",
         "Honda",
         "5/12/2020 0:00"
        ],
        [
         "BR2405",
         "DLR0161",
         null,
         2583356,
         2,
         "DT01229",
         5,
         2020,
         "Colman Automotive Building",
         "Proton Motors",
         "Mercedes-Benz",
         "5/13/2020 0:00"
        ],
        [
         "BR2410",
         "DLR0061",
         null,
         1996961,
         1,
         "DT01217",
         5,
         2020,
         "Colman Automotive Building",
         "Ford America Motors",
         "BMW",
         "5/1/2020 0:00"
        ],
        [
         "BR2415",
         "DLR0162",
         null,
         10879764,
         3,
         "DT01230",
         5,
         2020,
         "H Street Playhouse",
         "Puma Motors",
         "Mercedes-Benz",
         "5/14/2020 0:00"
        ],
        [
         "BR2420",
         "DLR0062",
         null,
         2428393,
         1,
         "DT01218",
         5,
         2020,
         "H Street Playhouse",
         "Ford Australia Motors",
         "BMW",
         "5/2/2020 0:00"
        ],
        [
         "BR2440",
         "DLR0064",
         null,
         14491058,
         2,
         "DT01220",
         5,
         2020,
         "Hupmobile Building",
         "Ford Europe Motors",
         "MG",
         "5/4/2020 0:00"
        ],
        [
         "BR2445",
         "DLR0165",
         null,
         4188963,
         1,
         "DT01233",
         5,
         2020,
         "Jennings Ford Automobile Dealership",
         "Renault Motors",
         "Peugeot",
         "5/17/2020 0:00"
        ],
        [
         "BR2450",
         "DLR0065",
         null,
         5979549,
         1,
         "DT01221",
         5,
         2020,
         "Jennings Ford Automobile Dealership",
         "Ford India Motors",
         "MG",
         "5/5/2020 0:00"
        ],
        [
         "BR2455",
         "DLR0166",
         null,
         23079612,
         3,
         "DT01234",
         5,
         2020,
         "Jones Motor Company",
         "Rivian Motors",
         "Peugeot",
         "5/18/2020 0:00"
        ],
        [
         "BR2460",
         "DLR0066",
         null,
         3309294,
         2,
         "DT01222",
         5,
         2020,
         "Jones Motor Company",
         "Freightliner Motors",
         "Jeep",
         "5/6/2020 0:00"
        ],
        [
         "BR2470",
         "DLR0067",
         null,
         2050218,
         3,
         "DT01223",
         5,
         2020,
         "Kindel Building",
         "FSO Motors",
         "Jeep",
         "5/7/2020 0:00"
        ]
       ],
       "datasetInfos": [],
       "dbfsResultPath": null,
       "isJsonSchema": true,
       "metadata": {},
       "overflow": false,
       "plotOptions": {
        "customPlotOptions": {},
        "displayType": "table",
        "pivotAggregation": null,
        "pivotColumns": null,
        "xColumns": null,
        "yColumns": null
       },
       "removedWidgets": [],
       "schema": [
        {
         "metadata": "{}",
         "name": "Branch_ID",
         "type": "\"string\""
        },
        {
         "metadata": "{}",
         "name": "Dealer_ID",
         "type": "\"string\""
        },
        {
         "metadata": "{}",
         "name": "Model_ID",
         "type": "\"integer\""
        },
        {
         "metadata": "{}",
         "name": "Revenue",
         "type": "\"integer\""
        },
        {
         "metadata": "{}",
         "name": "Units_Sold",
         "type": "\"integer\""
        },
        {
         "metadata": "{}",
         "name": "Date_ID",
         "type": "\"string\""
        },
        {
         "metadata": "{}",
         "name": "Month",
         "type": "\"integer\""
        },
        {
         "metadata": "{}",
         "name": "Year",
         "type": "\"integer\""
        },
        {
         "metadata": "{}",
         "name": "BranchName",
         "type": "\"string\""
        },
        {
         "metadata": "{}",
         "name": "DealerName",
         "type": "\"string\""
        },
        {
         "metadata": "{}",
         "name": "Product_Name",
         "type": "\"string\""
        },
        {
         "metadata": "{}",
         "name": "Date",
         "type": "\"string\""
        }
       ],
       "type": "table"
      }
     },
     "output_type": "display_data"
    }
   ],
   "source": [
    "cast_df.display()"
   ]
  },
  {
   "cell_type": "code",
   "execution_count": 0,
   "metadata": {
    "application/vnd.databricks.v1+cell": {
     "cellMetadata": {
      "byteLimit": 2048000,
      "rowLimit": 10000
     },
     "inputWidgets": {},
     "nuid": "73412b32-b8f2-440c-b47e-c573cb268dec",
     "showTitle": false,
     "tableResultSettingsMap": {},
     "title": ""
    }
   },
   "outputs": [
    {
     "output_type": "stream",
     "name": "stdout",
     "output_type": "stream",
     "text": [
      "Out[29]: 31"
     ]
    }
   ],
   "source": [
    "sales_df.count()\n"
   ]
  },
  {
   "cell_type": "code",
   "execution_count": 0,
   "metadata": {
    "application/vnd.databricks.v1+cell": {
     "cellMetadata": {
      "byteLimit": 2048000,
      "rowLimit": 10000
     },
     "inputWidgets": {},
     "nuid": "ff4ce5fa-78d9-44c7-90af-f9cc1ba49fe8",
     "showTitle": false,
     "tableResultSettingsMap": {},
     "title": ""
    }
   },
   "outputs": [
    {
     "output_type": "stream",
     "name": "stdout",
     "output_type": "stream",
     "text": [
      "Out[30]: 1"
     ]
    }
   ],
   "source": [
    "sales_df.rdd.getNumPartitions()"
   ]
  },
  {
   "cell_type": "markdown",
   "metadata": {
    "application/vnd.databricks.v1+cell": {
     "cellMetadata": {
      "byteLimit": 2048000,
      "rowLimit": 10000
     },
     "inputWidgets": {},
     "nuid": "aec7bfea-94d4-4a20-b94e-a8ac79b5ba8c",
     "showTitle": false,
     "tableResultSettingsMap": {},
     "title": ""
    }
   },
   "source": [
    "Repartition"
   ]
  },
  {
   "cell_type": "code",
   "execution_count": 0,
   "metadata": {
    "application/vnd.databricks.v1+cell": {
     "cellMetadata": {
      "byteLimit": 2048000,
      "rowLimit": 10000
     },
     "inputWidgets": {},
     "nuid": "e89cfa60-11a6-4fe9-92ca-c8bb926773b0",
     "showTitle": false,
     "tableResultSettingsMap": {},
     "title": ""
    }
   },
   "outputs": [],
   "source": [
    "sales_df_rep = sales_df.repartition(3)"
   ]
  },
  {
   "cell_type": "code",
   "execution_count": 0,
   "metadata": {
    "application/vnd.databricks.v1+cell": {
     "cellMetadata": {
      "byteLimit": 2048000,
      "rowLimit": 10000
     },
     "inputWidgets": {},
     "nuid": "0eec0710-c51a-4f9a-97a1-30a37ec5fcd2",
     "showTitle": false,
     "tableResultSettingsMap": {},
     "title": ""
    }
   },
   "outputs": [
    {
     "output_type": "stream",
     "name": "stdout",
     "output_type": "stream",
     "text": [
      "+-----------+-----+\n|PartitionId|count|\n+-----------+-----+\n|          0|   11|\n|          1|   10|\n|          2|   10|\n+-----------+-----+\n\n"
     ]
    }
   ],
   "source": [
    "sales_repartition = sales_df_rep.withColumn('PartitionId',spark_partition_id()).groupBy('PartitionId').count().show()"
   ]
  },
  {
   "cell_type": "code",
   "execution_count": 0,
   "metadata": {
    "application/vnd.databricks.v1+cell": {
     "cellMetadata": {
      "byteLimit": 2048000,
      "rowLimit": 10000
     },
     "inputWidgets": {},
     "nuid": "594ccd9c-bd7e-4002-aeac-8bccbe5f2794",
     "showTitle": false,
     "tableResultSettingsMap": {},
     "title": ""
    }
   },
   "outputs": [
    {
     "output_type": "stream",
     "name": "stdout",
     "output_type": "stream",
     "text": [
      "Out[34]: 3"
     ]
    }
   ],
   "source": [
    "sales_df_rep.rdd.getNumPartitions()"
   ]
  },
  {
   "cell_type": "code",
   "execution_count": 0,
   "metadata": {
    "application/vnd.databricks.v1+cell": {
     "cellMetadata": {
      "byteLimit": 2048000,
      "rowLimit": 10000
     },
     "inputWidgets": {},
     "nuid": "2ceb3c47-3b39-4d88-aee4-075f4b581eda",
     "showTitle": false,
     "tableResultSettingsMap": {},
     "title": ""
    }
   },
   "outputs": [],
   "source": [
    "sales_df_rep1 = sales_df.repartition(3,'BranchName')"
   ]
  },
  {
   "cell_type": "markdown",
   "metadata": {
    "application/vnd.databricks.v1+cell": {
     "cellMetadata": {
      "byteLimit": 2048000,
      "rowLimit": 10000
     },
     "inputWidgets": {},
     "nuid": "0a94725d-8bf1-4a23-b096-9c9cb43b69c8",
     "showTitle": false,
     "tableResultSettingsMap": {},
     "title": ""
    }
   },
   "source": [
    "Coalease"
   ]
  },
  {
   "cell_type": "code",
   "execution_count": 0,
   "metadata": {
    "application/vnd.databricks.v1+cell": {
     "cellMetadata": {
      "byteLimit": 2048000,
      "rowLimit": 10000
     },
     "inputWidgets": {},
     "nuid": "52c8ae91-d6a1-437f-a733-877e06496dd3",
     "showTitle": false,
     "tableResultSettingsMap": {},
     "title": ""
    }
   },
   "outputs": [
    {
     "output_type": "stream",
     "name": "stdout",
     "output_type": "stream",
     "text": [
      "Out[45]: 3"
     ]
    }
   ],
   "source": [
    "sales_df_rep.rdd.getNumPartitions()"
   ]
  },
  {
   "cell_type": "code",
   "execution_count": 0,
   "metadata": {
    "application/vnd.databricks.v1+cell": {
     "cellMetadata": {
      "byteLimit": 2048000,
      "rowLimit": 10000
     },
     "inputWidgets": {},
     "nuid": "89ce56b7-efe8-4c92-b081-e484c627340f",
     "showTitle": false,
     "tableResultSettingsMap": {},
     "title": ""
    }
   },
   "outputs": [],
   "source": [
    "sales_df_coal = sales_df_rep.coalesce(2)"
   ]
  },
  {
   "cell_type": "code",
   "execution_count": 0,
   "metadata": {
    "application/vnd.databricks.v1+cell": {
     "cellMetadata": {
      "byteLimit": 2048000,
      "rowLimit": 10000
     },
     "inputWidgets": {},
     "nuid": "b2e1972e-35e9-4d3d-ba84-3baae3c45eb6",
     "showTitle": false,
     "tableResultSettingsMap": {},
     "title": ""
    }
   },
   "outputs": [
    {
     "output_type": "stream",
     "name": "stdout",
     "output_type": "stream",
     "text": [
      "Out[47]: 2"
     ]
    }
   ],
   "source": [
    "sales_df_coal.rdd.getNumPartitions()"
   ]
  },
  {
   "cell_type": "code",
   "execution_count": 0,
   "metadata": {
    "application/vnd.databricks.v1+cell": {
     "cellMetadata": {
      "byteLimit": 2048000,
      "rowLimit": 10000
     },
     "inputWidgets": {},
     "nuid": "15226a1a-95af-400e-94e7-3540d3fd6757",
     "showTitle": false,
     "tableResultSettingsMap": {},
     "title": ""
    }
   },
   "outputs": [
    {
     "output_type": "stream",
     "name": "stdout",
     "output_type": "stream",
     "text": [
      "+-----------+-----+\n|partitionId|count|\n+-----------+-----+\n|          0|   11|\n|          1|   20|\n+-----------+-----+\n\n"
     ]
    }
   ],
   "source": [
    "sales_df_coal.withColumn('partitionId',spark_partition_id()).groupBy('partitionId').count().show()"
   ]
  },
  {
   "cell_type": "code",
   "execution_count": 0,
   "metadata": {
    "application/vnd.databricks.v1+cell": {
     "cellMetadata": {
      "byteLimit": 2048000,
      "rowLimit": 10000
     },
     "inputWidgets": {},
     "nuid": "f28f7a69-d152-4f10-9d0b-ecd899d04475",
     "showTitle": false,
     "tableResultSettingsMap": {},
     "title": ""
    }
   },
   "outputs": [],
   "source": [
    "employee_data = [\n",
    "    (101, \"Alice\", 30, \"HR\", 55000.0),\n",
    "    (102, \"Bob\", 35, \"Engineering\", 75000.0),\n",
    "    (103, \"Charlie\", 28, \"Marketing\", 50000.0),\n",
    "    (104, \"David\", 40, \"Engineering\", 80000.0),\n",
    "    (105, \"Eva\", 38, \"Finance\", 62000.0)\n",
    "]"
   ]
  },
  {
   "cell_type": "code",
   "execution_count": 0,
   "metadata": {
    "application/vnd.databricks.v1+cell": {
     "cellMetadata": {
      "byteLimit": 2048000,
      "rowLimit": 10000
     },
     "inputWidgets": {},
     "nuid": "36b96eb5-6566-453e-9f60-7998f0522359",
     "showTitle": false,
     "tableResultSettingsMap": {},
     "title": ""
    }
   },
   "outputs": [],
   "source": [
    "emp_df = spark.createDataFrame(employee_data,['emp_id','name','age','dept','salary'])"
   ]
  },
  {
   "cell_type": "code",
   "execution_count": 0,
   "metadata": {
    "application/vnd.databricks.v1+cell": {
     "cellMetadata": {
      "byteLimit": 2048000,
      "rowLimit": 10000
     },
     "inputWidgets": {},
     "nuid": "4d30c2ef-47c1-49b6-a682-813e423120d0",
     "showTitle": false,
     "tableResultSettingsMap": {},
     "title": ""
    }
   },
   "outputs": [
    {
     "output_type": "display_data",
     "data": {
      "text/html": [
       "<style scoped>\n",
       "  .table-result-container {\n",
       "    max-height: 300px;\n",
       "    overflow: auto;\n",
       "  }\n",
       "  table, th, td {\n",
       "    border: 1px solid black;\n",
       "    border-collapse: collapse;\n",
       "  }\n",
       "  th, td {\n",
       "    padding: 5px;\n",
       "  }\n",
       "  th {\n",
       "    text-align: left;\n",
       "  }\n",
       "</style><div class='table-result-container'><table class='table-result'><thead style='background-color: white'><tr><th>emp_id</th><th>name</th><th>age</th><th>dept</th><th>salary</th></tr></thead><tbody><tr><td>101</td><td>Alice</td><td>30</td><td>HR</td><td>55000.0</td></tr><tr><td>102</td><td>Bob</td><td>35</td><td>Engineering</td><td>75000.0</td></tr><tr><td>103</td><td>Charlie</td><td>28</td><td>Marketing</td><td>50000.0</td></tr><tr><td>104</td><td>David</td><td>40</td><td>Engineering</td><td>80000.0</td></tr><tr><td>105</td><td>Eva</td><td>38</td><td>Finance</td><td>62000.0</td></tr></tbody></table></div>"
      ]
     },
     "metadata": {
      "application/vnd.databricks.v1+output": {
       "addedWidgets": {},
       "aggData": [],
       "aggError": "",
       "aggOverflow": false,
       "aggSchema": [],
       "aggSeriesLimitReached": false,
       "aggType": "",
       "arguments": {},
       "columnCustomDisplayInfos": {},
       "data": [
        [
         101,
         "Alice",
         30,
         "HR",
         55000.0
        ],
        [
         102,
         "Bob",
         35,
         "Engineering",
         75000.0
        ],
        [
         103,
         "Charlie",
         28,
         "Marketing",
         50000.0
        ],
        [
         104,
         "David",
         40,
         "Engineering",
         80000.0
        ],
        [
         105,
         "Eva",
         38,
         "Finance",
         62000.0
        ]
       ],
       "datasetInfos": [],
       "dbfsResultPath": null,
       "isJsonSchema": true,
       "metadata": {},
       "overflow": false,
       "plotOptions": {
        "customPlotOptions": {},
        "displayType": "table",
        "pivotAggregation": null,
        "pivotColumns": null,
        "xColumns": null,
        "yColumns": null
       },
       "removedWidgets": [],
       "schema": [
        {
         "metadata": "{}",
         "name": "emp_id",
         "type": "\"long\""
        },
        {
         "metadata": "{}",
         "name": "name",
         "type": "\"string\""
        },
        {
         "metadata": "{}",
         "name": "age",
         "type": "\"long\""
        },
        {
         "metadata": "{}",
         "name": "dept",
         "type": "\"string\""
        },
        {
         "metadata": "{}",
         "name": "salary",
         "type": "\"double\""
        }
       ],
       "type": "table"
      }
     },
     "output_type": "display_data"
    }
   ],
   "source": [
    "emp_df.display()"
   ]
  },
  {
   "cell_type": "code",
   "execution_count": 0,
   "metadata": {
    "application/vnd.databricks.v1+cell": {
     "cellMetadata": {
      "byteLimit": 2048000,
      "rowLimit": 10000
     },
     "inputWidgets": {},
     "nuid": "dde2c98a-5778-4fb9-93c2-83e28cbe5ac8",
     "showTitle": false,
     "tableResultSettingsMap": {},
     "title": ""
    }
   },
   "outputs": [],
   "source": [
    "emp_sal = emp_df.filter(col('salary')>50000).orderBy('dept')"
   ]
  },
  {
   "cell_type": "code",
   "execution_count": 0,
   "metadata": {
    "application/vnd.databricks.v1+cell": {
     "cellMetadata": {
      "byteLimit": 2048000,
      "rowLimit": 10000
     },
     "inputWidgets": {},
     "nuid": "4b80aa71-6623-435a-82ca-a6f356138f3e",
     "showTitle": false,
     "tableResultSettingsMap": {},
     "title": ""
    }
   },
   "outputs": [
    {
     "output_type": "display_data",
     "data": {
      "text/html": [
       "<style scoped>\n",
       "  .table-result-container {\n",
       "    max-height: 300px;\n",
       "    overflow: auto;\n",
       "  }\n",
       "  table, th, td {\n",
       "    border: 1px solid black;\n",
       "    border-collapse: collapse;\n",
       "  }\n",
       "  th, td {\n",
       "    padding: 5px;\n",
       "  }\n",
       "  th {\n",
       "    text-align: left;\n",
       "  }\n",
       "</style><div class='table-result-container'><table class='table-result'><thead style='background-color: white'><tr><th>emp_id</th><th>name</th><th>age</th><th>dept</th><th>salary</th></tr></thead><tbody><tr><td>104</td><td>David</td><td>40</td><td>Engineering</td><td>80000.0</td></tr><tr><td>102</td><td>Bob</td><td>35</td><td>Engineering</td><td>75000.0</td></tr><tr><td>105</td><td>Eva</td><td>38</td><td>Finance</td><td>62000.0</td></tr><tr><td>101</td><td>Alice</td><td>30</td><td>HR</td><td>55000.0</td></tr></tbody></table></div>"
      ]
     },
     "metadata": {
      "application/vnd.databricks.v1+output": {
       "addedWidgets": {},
       "aggData": [],
       "aggError": "",
       "aggOverflow": false,
       "aggSchema": [],
       "aggSeriesLimitReached": false,
       "aggType": "",
       "arguments": {},
       "columnCustomDisplayInfos": {},
       "data": [
        [
         104,
         "David",
         40,
         "Engineering",
         80000.0
        ],
        [
         102,
         "Bob",
         35,
         "Engineering",
         75000.0
        ],
        [
         105,
         "Eva",
         38,
         "Finance",
         62000.0
        ],
        [
         101,
         "Alice",
         30,
         "HR",
         55000.0
        ]
       ],
       "datasetInfos": [],
       "dbfsResultPath": null,
       "isJsonSchema": true,
       "metadata": {},
       "overflow": false,
       "plotOptions": {
        "customPlotOptions": {},
        "displayType": "table",
        "pivotAggregation": null,
        "pivotColumns": null,
        "xColumns": null,
        "yColumns": null
       },
       "removedWidgets": [],
       "schema": [
        {
         "metadata": "{}",
         "name": "emp_id",
         "type": "\"long\""
        },
        {
         "metadata": "{}",
         "name": "name",
         "type": "\"string\""
        },
        {
         "metadata": "{}",
         "name": "age",
         "type": "\"long\""
        },
        {
         "metadata": "{}",
         "name": "dept",
         "type": "\"string\""
        },
        {
         "metadata": "{}",
         "name": "salary",
         "type": "\"double\""
        }
       ],
       "type": "table"
      }
     },
     "output_type": "display_data"
    }
   ],
   "source": [
    "emp_sal.display()"
   ]
  },
  {
   "cell_type": "code",
   "execution_count": 0,
   "metadata": {
    "application/vnd.databricks.v1+cell": {
     "cellMetadata": {
      "byteLimit": 2048000,
      "rowLimit": 10000
     },
     "inputWidgets": {},
     "nuid": "7a2bb286-5549-4880-80e0-6690f0944f5f",
     "showTitle": false,
     "tableResultSettingsMap": {},
     "title": ""
    }
   },
   "outputs": [],
   "source": [
    "bonus = emp_df.withColumn('bonus_salary',col('salary')*0.1)"
   ]
  },
  {
   "cell_type": "code",
   "execution_count": 0,
   "metadata": {
    "application/vnd.databricks.v1+cell": {
     "cellMetadata": {
      "byteLimit": 2048000,
      "rowLimit": 10000
     },
     "inputWidgets": {},
     "nuid": "abea028a-c04e-4709-ac1f-63020660a744",
     "showTitle": false,
     "tableResultSettingsMap": {},
     "title": ""
    }
   },
   "outputs": [
    {
     "output_type": "display_data",
     "data": {
      "text/html": [
       "<style scoped>\n",
       "  .table-result-container {\n",
       "    max-height: 300px;\n",
       "    overflow: auto;\n",
       "  }\n",
       "  table, th, td {\n",
       "    border: 1px solid black;\n",
       "    border-collapse: collapse;\n",
       "  }\n",
       "  th, td {\n",
       "    padding: 5px;\n",
       "  }\n",
       "  th {\n",
       "    text-align: left;\n",
       "  }\n",
       "</style><div class='table-result-container'><table class='table-result'><thead style='background-color: white'><tr><th>emp_id</th><th>name</th><th>age</th><th>dept</th><th>salary</th><th>bonus_salary</th></tr></thead><tbody><tr><td>101</td><td>Alice</td><td>30</td><td>HR</td><td>55000.0</td><td>5500.0</td></tr><tr><td>102</td><td>Bob</td><td>35</td><td>Engineering</td><td>75000.0</td><td>7500.0</td></tr><tr><td>103</td><td>Charlie</td><td>28</td><td>Marketing</td><td>50000.0</td><td>5000.0</td></tr><tr><td>104</td><td>David</td><td>40</td><td>Engineering</td><td>80000.0</td><td>8000.0</td></tr><tr><td>105</td><td>Eva</td><td>38</td><td>Finance</td><td>62000.0</td><td>6200.0</td></tr></tbody></table></div>"
      ]
     },
     "metadata": {
      "application/vnd.databricks.v1+output": {
       "addedWidgets": {},
       "aggData": [],
       "aggError": "",
       "aggOverflow": false,
       "aggSchema": [],
       "aggSeriesLimitReached": false,
       "aggType": "",
       "arguments": {},
       "columnCustomDisplayInfos": {},
       "data": [
        [
         101,
         "Alice",
         30,
         "HR",
         55000.0,
         5500.0
        ],
        [
         102,
         "Bob",
         35,
         "Engineering",
         75000.0,
         7500.0
        ],
        [
         103,
         "Charlie",
         28,
         "Marketing",
         50000.0,
         5000.0
        ],
        [
         104,
         "David",
         40,
         "Engineering",
         80000.0,
         8000.0
        ],
        [
         105,
         "Eva",
         38,
         "Finance",
         62000.0,
         6200.0
        ]
       ],
       "datasetInfos": [],
       "dbfsResultPath": null,
       "isJsonSchema": true,
       "metadata": {},
       "overflow": false,
       "plotOptions": {
        "customPlotOptions": {},
        "displayType": "table",
        "pivotAggregation": null,
        "pivotColumns": null,
        "xColumns": null,
        "yColumns": null
       },
       "removedWidgets": [],
       "schema": [
        {
         "metadata": "{}",
         "name": "emp_id",
         "type": "\"long\""
        },
        {
         "metadata": "{}",
         "name": "name",
         "type": "\"string\""
        },
        {
         "metadata": "{}",
         "name": "age",
         "type": "\"long\""
        },
        {
         "metadata": "{}",
         "name": "dept",
         "type": "\"string\""
        },
        {
         "metadata": "{}",
         "name": "salary",
         "type": "\"double\""
        },
        {
         "metadata": "{}",
         "name": "bonus_salary",
         "type": "\"double\""
        }
       ],
       "type": "table"
      }
     },
     "output_type": "display_data"
    }
   ],
   "source": [
    "bonus.display()"
   ]
  },
  {
   "cell_type": "code",
   "execution_count": 0,
   "metadata": {
    "application/vnd.databricks.v1+cell": {
     "cellMetadata": {
      "byteLimit": 2048000,
      "rowLimit": 10000
     },
     "inputWidgets": {},
     "nuid": "6b88894d-5faa-46ef-a5a5-7d4515c247d1",
     "showTitle": false,
     "tableResultSettingsMap": {},
     "title": ""
    }
   },
   "outputs": [],
   "source": [
    "ddup = bonus.dropDuplicates(['emp_id'])"
   ]
  },
  {
   "cell_type": "code",
   "execution_count": 0,
   "metadata": {
    "application/vnd.databricks.v1+cell": {
     "cellMetadata": {
      "byteLimit": 2048000,
      "rowLimit": 10000
     },
     "inputWidgets": {},
     "nuid": "19a3003c-8b20-4e25-a6f3-48f34cf17606",
     "showTitle": false,
     "tableResultSettingsMap": {},
     "title": ""
    }
   },
   "outputs": [
    {
     "output_type": "display_data",
     "data": {
      "text/html": [
       "<style scoped>\n",
       "  .table-result-container {\n",
       "    max-height: 300px;\n",
       "    overflow: auto;\n",
       "  }\n",
       "  table, th, td {\n",
       "    border: 1px solid black;\n",
       "    border-collapse: collapse;\n",
       "  }\n",
       "  th, td {\n",
       "    padding: 5px;\n",
       "  }\n",
       "  th {\n",
       "    text-align: left;\n",
       "  }\n",
       "</style><div class='table-result-container'><table class='table-result'><thead style='background-color: white'><tr><th>emp_id</th><th>name</th><th>age</th><th>dept</th><th>salary</th><th>bonus_salary</th></tr></thead><tbody><tr><td>101</td><td>Alice</td><td>30</td><td>HR</td><td>55000.0</td><td>5500.0</td></tr><tr><td>102</td><td>Bob</td><td>35</td><td>Engineering</td><td>75000.0</td><td>7500.0</td></tr><tr><td>103</td><td>Charlie</td><td>28</td><td>Marketing</td><td>50000.0</td><td>5000.0</td></tr><tr><td>104</td><td>David</td><td>40</td><td>Engineering</td><td>80000.0</td><td>8000.0</td></tr><tr><td>105</td><td>Eva</td><td>38</td><td>Finance</td><td>62000.0</td><td>6200.0</td></tr></tbody></table></div>"
      ]
     },
     "metadata": {
      "application/vnd.databricks.v1+output": {
       "addedWidgets": {},
       "aggData": [],
       "aggError": "",
       "aggOverflow": false,
       "aggSchema": [],
       "aggSeriesLimitReached": false,
       "aggType": "",
       "arguments": {},
       "columnCustomDisplayInfos": {},
       "data": [
        [
         101,
         "Alice",
         30,
         "HR",
         55000.0,
         5500.0
        ],
        [
         102,
         "Bob",
         35,
         "Engineering",
         75000.0,
         7500.0
        ],
        [
         103,
         "Charlie",
         28,
         "Marketing",
         50000.0,
         5000.0
        ],
        [
         104,
         "David",
         40,
         "Engineering",
         80000.0,
         8000.0
        ],
        [
         105,
         "Eva",
         38,
         "Finance",
         62000.0,
         6200.0
        ]
       ],
       "datasetInfos": [],
       "dbfsResultPath": null,
       "isJsonSchema": true,
       "metadata": {},
       "overflow": false,
       "plotOptions": {
        "customPlotOptions": {},
        "displayType": "table",
        "pivotAggregation": null,
        "pivotColumns": null,
        "xColumns": null,
        "yColumns": null
       },
       "removedWidgets": [],
       "schema": [
        {
         "metadata": "{}",
         "name": "emp_id",
         "type": "\"long\""
        },
        {
         "metadata": "{}",
         "name": "name",
         "type": "\"string\""
        },
        {
         "metadata": "{}",
         "name": "age",
         "type": "\"long\""
        },
        {
         "metadata": "{}",
         "name": "dept",
         "type": "\"string\""
        },
        {
         "metadata": "{}",
         "name": "salary",
         "type": "\"double\""
        },
        {
         "metadata": "{}",
         "name": "bonus_salary",
         "type": "\"double\""
        }
       ],
       "type": "table"
      }
     },
     "output_type": "display_data"
    }
   ],
   "source": [
    "ddup.display()"
   ]
  },
  {
   "cell_type": "code",
   "execution_count": 0,
   "metadata": {
    "application/vnd.databricks.v1+cell": {
     "cellMetadata": {
      "byteLimit": 2048000,
      "rowLimit": 10000
     },
     "inputWidgets": {},
     "nuid": "3189a74a-6fb2-4e1c-a622-70da9f45fdbe",
     "showTitle": false,
     "tableResultSettingsMap": {},
     "title": ""
    }
   },
   "outputs": [],
   "source": [
    "def salary_category(salary):\n",
    "    if salary >= 70000:\n",
    "        return 'High'\n",
    "    elif salary >=55000:\n",
    "        return 'Medium'\n",
    "    else:\n",
    "        return 'Low'\n",
    "    \n",
    "     "
   ]
  },
  {
   "cell_type": "code",
   "execution_count": 0,
   "metadata": {
    "application/vnd.databricks.v1+cell": {
     "cellMetadata": {
      "byteLimit": 2048000,
      "rowLimit": 10000
     },
     "inputWidgets": {},
     "nuid": "2d88d27e-00ea-4a20-a234-6985be042efa",
     "showTitle": false,
     "tableResultSettingsMap": {},
     "title": ""
    }
   },
   "outputs": [],
   "source": [
    "salary_category_udf = udf(salary_category, StringType())\n",
    "\n",
    "categorise_salary = emp_df.withColumn('salary_category',salary_category_udf(emp_df['salary']))\n"
   ]
  },
  {
   "cell_type": "code",
   "execution_count": 0,
   "metadata": {
    "application/vnd.databricks.v1+cell": {
     "cellMetadata": {
      "byteLimit": 2048000,
      "rowLimit": 10000
     },
     "inputWidgets": {},
     "nuid": "4d03e115-bd0c-4bb7-9e84-bb9fb03bfe2c",
     "showTitle": false,
     "tableResultSettingsMap": {},
     "title": ""
    }
   },
   "outputs": [
    {
     "output_type": "display_data",
     "data": {
      "text/html": [
       "<style scoped>\n",
       "  .table-result-container {\n",
       "    max-height: 300px;\n",
       "    overflow: auto;\n",
       "  }\n",
       "  table, th, td {\n",
       "    border: 1px solid black;\n",
       "    border-collapse: collapse;\n",
       "  }\n",
       "  th, td {\n",
       "    padding: 5px;\n",
       "  }\n",
       "  th {\n",
       "    text-align: left;\n",
       "  }\n",
       "</style><div class='table-result-container'><table class='table-result'><thead style='background-color: white'><tr><th>emp_id</th><th>name</th><th>age</th><th>dept</th><th>salary</th><th>salary_category</th></tr></thead><tbody><tr><td>101</td><td>Alice</td><td>30</td><td>HR</td><td>55000.0</td><td>Medium</td></tr><tr><td>102</td><td>Bob</td><td>35</td><td>Engineering</td><td>75000.0</td><td>High</td></tr><tr><td>103</td><td>Charlie</td><td>28</td><td>Marketing</td><td>50000.0</td><td>Low</td></tr><tr><td>104</td><td>David</td><td>40</td><td>Engineering</td><td>80000.0</td><td>High</td></tr><tr><td>105</td><td>Eva</td><td>38</td><td>Finance</td><td>62000.0</td><td>Medium</td></tr></tbody></table></div>"
      ]
     },
     "metadata": {
      "application/vnd.databricks.v1+output": {
       "addedWidgets": {},
       "aggData": [],
       "aggError": "",
       "aggOverflow": false,
       "aggSchema": [],
       "aggSeriesLimitReached": false,
       "aggType": "",
       "arguments": {},
       "columnCustomDisplayInfos": {},
       "data": [
        [
         101,
         "Alice",
         30,
         "HR",
         55000.0,
         "Medium"
        ],
        [
         102,
         "Bob",
         35,
         "Engineering",
         75000.0,
         "High"
        ],
        [
         103,
         "Charlie",
         28,
         "Marketing",
         50000.0,
         "Low"
        ],
        [
         104,
         "David",
         40,
         "Engineering",
         80000.0,
         "High"
        ],
        [
         105,
         "Eva",
         38,
         "Finance",
         62000.0,
         "Medium"
        ]
       ],
       "datasetInfos": [],
       "dbfsResultPath": null,
       "isJsonSchema": true,
       "metadata": {},
       "overflow": false,
       "plotOptions": {
        "customPlotOptions": {},
        "displayType": "table",
        "pivotAggregation": null,
        "pivotColumns": null,
        "xColumns": null,
        "yColumns": null
       },
       "removedWidgets": [],
       "schema": [
        {
         "metadata": "{}",
         "name": "emp_id",
         "type": "\"long\""
        },
        {
         "metadata": "{}",
         "name": "name",
         "type": "\"string\""
        },
        {
         "metadata": "{}",
         "name": "age",
         "type": "\"long\""
        },
        {
         "metadata": "{}",
         "name": "dept",
         "type": "\"string\""
        },
        {
         "metadata": "{}",
         "name": "salary",
         "type": "\"double\""
        },
        {
         "metadata": "{}",
         "name": "salary_category",
         "type": "\"string\""
        }
       ],
       "type": "table"
      }
     },
     "output_type": "display_data"
    }
   ],
   "source": [
    "categorise_salary.display()"
   ]
  },
  {
   "cell_type": "code",
   "execution_count": 0,
   "metadata": {
    "application/vnd.databricks.v1+cell": {
     "cellMetadata": {
      "byteLimit": 2048000,
      "rowLimit": 10000
     },
     "inputWidgets": {},
     "nuid": "9fdde844-bc07-46e2-ab0a-df90b89b8fd6",
     "showTitle": false,
     "tableResultSettingsMap": {},
     "title": ""
    }
   },
   "outputs": [
    {
     "output_type": "display_data",
     "data": {
      "text/html": [
       "<style scoped>\n",
       "  .table-result-container {\n",
       "    max-height: 300px;\n",
       "    overflow: auto;\n",
       "  }\n",
       "  table, th, td {\n",
       "    border: 1px solid black;\n",
       "    border-collapse: collapse;\n",
       "  }\n",
       "  th, td {\n",
       "    padding: 5px;\n",
       "  }\n",
       "  th {\n",
       "    text-align: left;\n",
       "  }\n",
       "</style><div class='table-result-container'><table class='table-result'><thead style='background-color: white'><tr><th>dept</th><th>emp_id</th><th>name</th><th>age</th><th>salary</th><th>avg_salary</th></tr></thead><tbody><tr><td>HR</td><td>101</td><td>Alice</td><td>30</td><td>55000.0</td><td>55000.0</td></tr><tr><td>Engineering</td><td>102</td><td>Bob</td><td>35</td><td>75000.0</td><td>77500.0</td></tr><tr><td>Marketing</td><td>103</td><td>Charlie</td><td>28</td><td>50000.0</td><td>50000.0</td></tr><tr><td>Engineering</td><td>104</td><td>David</td><td>40</td><td>80000.0</td><td>77500.0</td></tr><tr><td>Finance</td><td>105</td><td>Eva</td><td>38</td><td>62000.0</td><td>62000.0</td></tr></tbody></table></div>"
      ]
     },
     "metadata": {
      "application/vnd.databricks.v1+output": {
       "addedWidgets": {},
       "aggData": [],
       "aggError": "",
       "aggOverflow": false,
       "aggSchema": [],
       "aggSeriesLimitReached": false,
       "aggType": "",
       "arguments": {},
       "columnCustomDisplayInfos": {},
       "data": [
        [
         "HR",
         101,
         "Alice",
         30,
         55000.0,
         55000.0
        ],
        [
         "Engineering",
         102,
         "Bob",
         35,
         75000.0,
         77500.0
        ],
        [
         "Marketing",
         103,
         "Charlie",
         28,
         50000.0,
         50000.0
        ],
        [
         "Engineering",
         104,
         "David",
         40,
         80000.0,
         77500.0
        ],
        [
         "Finance",
         105,
         "Eva",
         38,
         62000.0,
         62000.0
        ]
       ],
       "datasetInfos": [],
       "dbfsResultPath": null,
       "isJsonSchema": true,
       "metadata": {},
       "overflow": false,
       "plotOptions": {
        "customPlotOptions": {},
        "displayType": "table",
        "pivotAggregation": null,
        "pivotColumns": null,
        "xColumns": null,
        "yColumns": null
       },
       "removedWidgets": [],
       "schema": [
        {
         "metadata": "{}",
         "name": "dept",
         "type": "\"string\""
        },
        {
         "metadata": "{}",
         "name": "emp_id",
         "type": "\"long\""
        },
        {
         "metadata": "{}",
         "name": "name",
         "type": "\"string\""
        },
        {
         "metadata": "{}",
         "name": "age",
         "type": "\"long\""
        },
        {
         "metadata": "{}",
         "name": "salary",
         "type": "\"double\""
        },
        {
         "metadata": "{}",
         "name": "avg_salary",
         "type": "\"double\""
        }
       ],
       "type": "table"
      }
     },
     "output_type": "display_data"
    }
   ],
   "source": [
    "avg_sal = emp_df.groupBy('dept').agg(avg('salary').alias('avg_salary'))\n",
    "all_col = emp_df.join(avg_sal,on='dept', how='left')\n",
    "all_col.display()"
   ]
  },
  {
   "cell_type": "code",
   "execution_count": 0,
   "metadata": {
    "application/vnd.databricks.v1+cell": {
     "cellMetadata": {
      "byteLimit": 2048000,
      "rowLimit": 10000
     },
     "inputWidgets": {},
     "nuid": "f92c30f2-f6f2-4342-b94e-89febc0c773e",
     "showTitle": false,
     "tableResultSettingsMap": {},
     "title": ""
    }
   },
   "outputs": [
    {
     "output_type": "display_data",
     "data": {
      "text/html": [
       "<style scoped>\n",
       "  .table-result-container {\n",
       "    max-height: 300px;\n",
       "    overflow: auto;\n",
       "  }\n",
       "  table, th, td {\n",
       "    border: 1px solid black;\n",
       "    border-collapse: collapse;\n",
       "  }\n",
       "  th, td {\n",
       "    padding: 5px;\n",
       "  }\n",
       "  th {\n",
       "    text-align: left;\n",
       "  }\n",
       "</style><div class='table-result-container'><table class='table-result'><thead style='background-color: white'><tr><th>emp_id</th><th>name</th><th>age</th><th>dept</th><th>salary</th><th>rnk</th></tr></thead><tbody><tr><td>104</td><td>David</td><td>40</td><td>Engineering</td><td>80000.0</td><td>1</td></tr><tr><td>102</td><td>Bob</td><td>35</td><td>Engineering</td><td>75000.0</td><td>2</td></tr><tr><td>105</td><td>Eva</td><td>38</td><td>Finance</td><td>62000.0</td><td>1</td></tr><tr><td>101</td><td>Alice</td><td>30</td><td>HR</td><td>55000.0</td><td>1</td></tr><tr><td>103</td><td>Charlie</td><td>28</td><td>Marketing</td><td>50000.0</td><td>1</td></tr></tbody></table></div>"
      ]
     },
     "metadata": {
      "application/vnd.databricks.v1+output": {
       "addedWidgets": {},
       "aggData": [],
       "aggError": "",
       "aggOverflow": false,
       "aggSchema": [],
       "aggSeriesLimitReached": false,
       "aggType": "",
       "arguments": {},
       "columnCustomDisplayInfos": {},
       "data": [
        [
         104,
         "David",
         40,
         "Engineering",
         80000.0,
         1
        ],
        [
         102,
         "Bob",
         35,
         "Engineering",
         75000.0,
         2
        ],
        [
         105,
         "Eva",
         38,
         "Finance",
         62000.0,
         1
        ],
        [
         101,
         "Alice",
         30,
         "HR",
         55000.0,
         1
        ],
        [
         103,
         "Charlie",
         28,
         "Marketing",
         50000.0,
         1
        ]
       ],
       "datasetInfos": [],
       "dbfsResultPath": null,
       "isJsonSchema": true,
       "metadata": {},
       "overflow": false,
       "plotOptions": {
        "customPlotOptions": {},
        "displayType": "table",
        "pivotAggregation": null,
        "pivotColumns": null,
        "xColumns": null,
        "yColumns": null
       },
       "removedWidgets": [],
       "schema": [
        {
         "metadata": "{}",
         "name": "emp_id",
         "type": "\"long\""
        },
        {
         "metadata": "{}",
         "name": "name",
         "type": "\"string\""
        },
        {
         "metadata": "{}",
         "name": "age",
         "type": "\"long\""
        },
        {
         "metadata": "{}",
         "name": "dept",
         "type": "\"string\""
        },
        {
         "metadata": "{}",
         "name": "salary",
         "type": "\"double\""
        },
        {
         "metadata": "{}",
         "name": "rnk",
         "type": "\"integer\""
        }
       ],
       "type": "table"
      }
     },
     "output_type": "display_data"
    }
   ],
   "source": [
    "from pyspark.sql.functions import *\n",
    "from pyspark.sql.window import Window\n",
    "\n",
    "dept_window = Window.partitionBy('dept').orderBy(desc('salary'))\n",
    "higest_paid = emp_df.withColumn('rnk',dense_rank().over(dept_window))\n",
    "higest_paid.filter(col('rnk')<=3).display()"
   ]
  },
  {
   "cell_type": "code",
   "execution_count": 0,
   "metadata": {
    "application/vnd.databricks.v1+cell": {
     "cellMetadata": {
      "byteLimit": 2048000,
      "rowLimit": 10000
     },
     "inputWidgets": {},
     "nuid": "50538762-87dd-4aa2-b9f1-f6580d8ad47c",
     "showTitle": false,
     "tableResultSettingsMap": {},
     "title": ""
    }
   },
   "outputs": [
    {
     "output_type": "display_data",
     "data": {
      "text/plain": [
       "\u001B[0;36m  File \u001B[0;32m<command-761640013670937>:6\u001B[0;36m\u001B[0m\n",
       "\u001B[0;31m    left_join.write.format('parquet').save(<path>)\u001B[0m\n",
       "\u001B[0m                                           ^\u001B[0m\n",
       "\u001B[0;31mSyntaxError\u001B[0m\u001B[0;31m:\u001B[0m invalid syntax\n"
      ]
     },
     "metadata": {
      "application/vnd.databricks.v1+output": {
       "arguments": {},
       "data": "\u001B[0;36m  File \u001B[0;32m<command-761640013670937>:6\u001B[0;36m\u001B[0m\n\u001B[0;31m    left_join.write.format('parquet').save(<path>)\u001B[0m\n\u001B[0m                                           ^\u001B[0m\n\u001B[0;31mSyntaxError\u001B[0m\u001B[0;31m:\u001B[0m invalid syntax\n",
       "errorSummary": "<span class='ansi-red-fg'>SyntaxError</span>: invalid syntax (<command-761640013670937>, line 6)",
       "errorTraceType": "ansi",
       "metadata": {},
       "type": "ipynbError"
      }
     },
     "output_type": "display_data"
    }
   ],
   "source": [
    "emp_df.join(dept_df,on='dept_id',how='inner')\n",
    "\n",
    "left_join = emp_df.join(dept_df,on='dept_id',how='left')\n",
    "left_join.filter(col('dept_id').isNull).show()\n",
    "\n",
    "left_join.write.format('parquet').save(<path>)\n",
    "\n",
    "relaoded_df = spark.read.format('parquet')"
   ]
  },
  {
   "cell_type": "code",
   "execution_count": 0,
   "metadata": {
    "application/vnd.databricks.v1+cell": {
     "cellMetadata": {
      "byteLimit": 2048000,
      "rowLimit": 10000
     },
     "inputWidgets": {},
     "nuid": "bea05d42-84cd-4dd3-8d84-cdd75f99dbb9",
     "showTitle": false,
     "tableResultSettingsMap": {},
     "title": ""
    }
   },
   "outputs": [
    {
     "output_type": "display_data",
     "data": {
      "text/plain": [
       ""
      ]
     },
     "metadata": {
      "application/vnd.databricks.v1+output": {
       "arguments": {},
       "data": "",
       "errorSummary": "Command skipped",
       "errorTraceType": "ansi",
       "metadata": {},
       "type": "ipynbError"
      }
     },
     "output_type": "display_data"
    }
   ],
   "source": [
    "emp_df.createOrReplaceTempView('emp_data')"
   ]
  },
  {
   "cell_type": "code",
   "execution_count": 0,
   "metadata": {
    "application/vnd.databricks.v1+cell": {
     "cellMetadata": {
      "byteLimit": 2048000,
      "rowLimit": 10000
     },
     "inputWidgets": {},
     "nuid": "72de6194-6583-4adb-93fa-e99cf4d02acd",
     "showTitle": false,
     "tableResultSettingsMap": {},
     "title": ""
    }
   },
   "outputs": [
    {
     "output_type": "display_data",
     "data": {
      "text/plain": [
       ""
      ]
     },
     "metadata": {
      "application/vnd.databricks.v1+output": {
       "arguments": {},
       "data": "",
       "errorSummary": "Command skipped",
       "errorTraceType": "ansi",
       "metadata": {},
       "type": "ipynbError"
      }
     },
     "output_type": "display_data"
    }
   ],
   "source": [
    "result = spark.sql(\"select * from emp_data\")"
   ]
  },
  {
   "cell_type": "code",
   "execution_count": 0,
   "metadata": {
    "application/vnd.databricks.v1+cell": {
     "cellMetadata": {
      "byteLimit": 2048000,
      "rowLimit": 10000
     },
     "inputWidgets": {},
     "nuid": "0d8dc1b0-dfeb-4239-ada4-4c603a5a4cdd",
     "showTitle": false,
     "tableResultSettingsMap": {},
     "title": ""
    }
   },
   "outputs": [
    {
     "output_type": "display_data",
     "data": {
      "text/plain": [
       ""
      ]
     },
     "metadata": {
      "application/vnd.databricks.v1+output": {
       "arguments": {},
       "data": "",
       "errorSummary": "Command skipped",
       "errorTraceType": "ansi",
       "metadata": {},
       "type": "ipynbError"
      }
     },
     "output_type": "display_data"
    }
   ],
   "source": [
    "result.display()"
   ]
  },
  {
   "cell_type": "code",
   "execution_count": 0,
   "metadata": {
    "application/vnd.databricks.v1+cell": {
     "cellMetadata": {
      "byteLimit": 2048000,
      "rowLimit": 10000
     },
     "inputWidgets": {},
     "nuid": "01d7707a-1f6b-436a-ac03-d90fb62164a6",
     "showTitle": false,
     "tableResultSettingsMap": {},
     "title": ""
    }
   },
   "outputs": [
    {
     "output_type": "display_data",
     "data": {
      "text/plain": [
       ""
      ]
     },
     "metadata": {
      "application/vnd.databricks.v1+output": {
       "arguments": {},
       "data": "",
       "errorSummary": "Command skipped",
       "errorTraceType": "ansi",
       "metadata": {},
       "type": "ipynbError"
      }
     },
     "output_type": "display_data"
    }
   ],
   "source": [
    "result = spark.sql(\"select name from emp_data where dept= 'Engineering'\")"
   ]
  },
  {
   "cell_type": "code",
   "execution_count": 0,
   "metadata": {
    "application/vnd.databricks.v1+cell": {
     "cellMetadata": {
      "byteLimit": 2048000,
      "rowLimit": 10000
     },
     "inputWidgets": {},
     "nuid": "74800b0e-b1cb-4bd6-9f5b-57d888a1f783",
     "showTitle": false,
     "tableResultSettingsMap": {},
     "title": ""
    }
   },
   "outputs": [
    {
     "output_type": "display_data",
     "data": {
      "text/plain": [
       ""
      ]
     },
     "metadata": {
      "application/vnd.databricks.v1+output": {
       "arguments": {},
       "data": "",
       "errorSummary": "Command skipped",
       "errorTraceType": "ansi",
       "metadata": {},
       "type": "ipynbError"
      }
     },
     "output_type": "display_data"
    }
   ],
   "source": [
    "result.display()"
   ]
  },
  {
   "cell_type": "code",
   "execution_count": 0,
   "metadata": {
    "application/vnd.databricks.v1+cell": {
     "cellMetadata": {
      "byteLimit": 2048000,
      "rowLimit": 10000
     },
     "inputWidgets": {},
     "nuid": "7e69bcfd-5af9-442f-9f37-f6c557737b33",
     "showTitle": false,
     "tableResultSettingsMap": {},
     "title": ""
    }
   },
   "outputs": [
    {
     "output_type": "display_data",
     "data": {
      "text/plain": [
       ""
      ]
     },
     "metadata": {
      "application/vnd.databricks.v1+output": {
       "arguments": {},
       "data": "",
       "errorSummary": "Command skipped",
       "errorTraceType": "ansi",
       "metadata": {},
       "type": "ipynbError"
      }
     },
     "output_type": "display_data"
    }
   ],
   "source": [
    "emp_df.cache()"
   ]
  },
  {
   "cell_type": "code",
   "execution_count": 0,
   "metadata": {
    "application/vnd.databricks.v1+cell": {
     "cellMetadata": {
      "byteLimit": 2048000,
      "rowLimit": 10000
     },
     "inputWidgets": {},
     "nuid": "0aff3eb3-a1b2-4f76-8bec-742c4044a25e",
     "showTitle": false,
     "tableResultSettingsMap": {},
     "title": ""
    }
   },
   "outputs": [
    {
     "output_type": "display_data",
     "data": {
      "text/plain": [
       ""
      ]
     },
     "metadata": {
      "application/vnd.databricks.v1+output": {
       "arguments": {},
       "data": "",
       "errorSummary": "Command skipped",
       "errorTraceType": "ansi",
       "metadata": {},
       "type": "ipynbError"
      }
     },
     "output_type": "display_data"
    }
   ],
   "source": [
    "emp_df.count()"
   ]
  },
  {
   "cell_type": "code",
   "execution_count": 0,
   "metadata": {
    "application/vnd.databricks.v1+cell": {
     "cellMetadata": {
      "byteLimit": 2048000,
      "rowLimit": 10000
     },
     "inputWidgets": {},
     "nuid": "f1799066-57ed-466a-b5d4-3edf2a512274",
     "showTitle": false,
     "tableResultSettingsMap": {},
     "title": ""
    }
   },
   "outputs": [
    {
     "output_type": "display_data",
     "data": {
      "text/plain": [
       ""
      ]
     },
     "metadata": {
      "application/vnd.databricks.v1+output": {
       "arguments": {},
       "data": "",
       "errorSummary": "Command skipped",
       "errorTraceType": "ansi",
       "metadata": {},
       "type": "ipynbError"
      }
     },
     "output_type": "display_data"
    }
   ],
   "source": [
    "emp_df.select('name').show()"
   ]
  },
  {
   "cell_type": "code",
   "execution_count": 0,
   "metadata": {
    "application/vnd.databricks.v1+cell": {
     "cellMetadata": {
      "byteLimit": 2048000,
      "rowLimit": 10000
     },
     "inputWidgets": {},
     "nuid": "7933f708-74aa-4f15-b39c-d8d01774efbd",
     "showTitle": false,
     "tableResultSettingsMap": {},
     "title": ""
    }
   },
   "outputs": [
    {
     "output_type": "display_data",
     "data": {
      "text/plain": [
       ""
      ]
     },
     "metadata": {
      "application/vnd.databricks.v1+output": {
       "arguments": {},
       "data": "",
       "errorSummary": "Command skipped",
       "errorTraceType": "ansi",
       "metadata": {},
       "type": "ipynbError"
      }
     },
     "output_type": "display_data"
    }
   ],
   "source": [
    "emp_df.select('salary').display()"
   ]
  },
  {
   "cell_type": "code",
   "execution_count": 0,
   "metadata": {
    "application/vnd.databricks.v1+cell": {
     "cellMetadata": {
      "byteLimit": 2048000,
      "rowLimit": 10000
     },
     "inputWidgets": {},
     "nuid": "36b97483-5128-4778-ab7e-865903b1beb3",
     "showTitle": false,
     "tableResultSettingsMap": {},
     "title": ""
    }
   },
   "outputs": [
    {
     "output_type": "display_data",
     "data": {
      "text/plain": [
       ""
      ]
     },
     "metadata": {
      "application/vnd.databricks.v1+output": {
       "arguments": {},
       "data": "",
       "errorSummary": "Command skipped",
       "errorTraceType": "ansi",
       "metadata": {},
       "type": "ipynbError"
      }
     },
     "output_type": "display_data"
    }
   ],
   "source": [
    "salary_bonus = emp_df.withColumn('salary_bonus',col('salary')*10)\n",
    "salary_bonus.display()"
   ]
  },
  {
   "cell_type": "code",
   "execution_count": 0,
   "metadata": {
    "application/vnd.databricks.v1+cell": {
     "cellMetadata": {
      "byteLimit": 2048000,
      "rowLimit": 10000
     },
     "inputWidgets": {},
     "nuid": "44da03d4-5399-4c18-b83f-079ed1333e71",
     "showTitle": false,
     "tableResultSettingsMap": {},
     "title": ""
    }
   },
   "outputs": [
    {
     "output_type": "display_data",
     "data": {
      "text/plain": [
       ""
      ]
     },
     "metadata": {
      "application/vnd.databricks.v1+output": {
       "arguments": {},
       "data": "",
       "errorSummary": "Command skipped",
       "errorTraceType": "ansi",
       "metadata": {},
       "type": "ipynbError"
      }
     },
     "output_type": "display_data"
    }
   ],
   "source": [
    "salary_bonus.write.format('parquet').saveAsTable('employee_data')"
   ]
  },
  {
   "cell_type": "code",
   "execution_count": 0,
   "metadata": {
    "application/vnd.databricks.v1+cell": {
     "cellMetadata": {
      "byteLimit": 2048000,
      "rowLimit": 10000
     },
     "inputWidgets": {},
     "nuid": "f2d8f965-4c7a-4eb5-8530-6b7fd1d83c5e",
     "showTitle": false,
     "tableResultSettingsMap": {},
     "title": ""
    }
   },
   "outputs": [
    {
     "output_type": "display_data",
     "data": {
      "text/plain": [
       ""
      ]
     },
     "metadata": {
      "application/vnd.databricks.v1+output": {
       "arguments": {},
       "data": "",
       "errorSummary": "Command skipped",
       "errorTraceType": "ansi",
       "metadata": {},
       "type": "ipynbError"
      }
     },
     "output_type": "display_data"
    }
   ],
   "source": [
    "result = spark.sql(\"select * from employee_data order by salary desc\")"
   ]
  },
  {
   "cell_type": "code",
   "execution_count": 0,
   "metadata": {
    "application/vnd.databricks.v1+cell": {
     "cellMetadata": {
      "byteLimit": 2048000,
      "rowLimit": 10000
     },
     "inputWidgets": {},
     "nuid": "8d5b9866-5a2f-403d-bee2-3cabdef77f0a",
     "showTitle": false,
     "tableResultSettingsMap": {},
     "title": ""
    }
   },
   "outputs": [
    {
     "output_type": "display_data",
     "data": {
      "text/plain": [
       ""
      ]
     },
     "metadata": {
      "application/vnd.databricks.v1+output": {
       "arguments": {},
       "data": "",
       "errorSummary": "Command skipped",
       "errorTraceType": "ansi",
       "metadata": {},
       "type": "ipynbError"
      }
     },
     "output_type": "display_data"
    }
   ],
   "source": [
    "result.display()"
   ]
  },
  {
   "cell_type": "code",
   "execution_count": 0,
   "metadata": {
    "application/vnd.databricks.v1+cell": {
     "cellMetadata": {
      "byteLimit": 2048000,
      "rowLimit": 10000
     },
     "inputWidgets": {},
     "nuid": "777d1237-3455-47a5-bf72-d30d4cd22a7a",
     "showTitle": false,
     "tableResultSettingsMap": {},
     "title": ""
    }
   },
   "outputs": [],
   "source": [
    "%sql\n",
    "select userId, lag(login_date over order by userId) as prev_day,\n",
    "lead(login_date order by userId) as next_day\n",
    "from user_table\n",
    "where (login_date-prev_day) == 1 and (next_day-login_date) == 1"
   ]
  }
 ],
 "metadata": {
  "application/vnd.databricks.v1+notebook": {
   "computePreferences": null,
   "dashboards": [],
   "environmentMetadata": {
    "base_environment": "",
    "environment_version": "1"
   },
   "inputWidgetPreferences": null,
   "language": "python",
   "notebookMetadata": {
    "pythonIndentUnit": 4
   },
   "notebookName": "PysparkPractice",
   "widgets": {}
  },
  "language_info": {
   "name": "python"
  }
 },
 "nbformat": 4,
 "nbformat_minor": 0
}